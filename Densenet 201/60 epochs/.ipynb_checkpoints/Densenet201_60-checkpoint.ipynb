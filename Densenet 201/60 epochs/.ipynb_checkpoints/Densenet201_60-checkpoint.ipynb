{
 "cells": [
  {
   "cell_type": "code",
   "execution_count": 1,
   "id": "9beff1c1",
   "metadata": {},
   "outputs": [],
   "source": [
    "# Importing necessary libraries\n",
    "import os\n",
    "import numpy as np\n",
    "import pandas as pd\n",
    "import matplotlib.pyplot as plt\n",
    "import seaborn as sns\n",
    "from sklearn.model_selection import train_test_split\n",
    "from sklearn.metrics import confusion_matrix, classification_report\n",
    "import tensorflow as tf\n",
    "from tensorflow.keras.models import Sequential\n",
    "from tensorflow.keras.layers import Dense, GlobalAveragePooling2D, Dropout,BatchNormalization\n",
    "from tensorflow.keras.applications import DenseNet201\n",
    "from tensorflow.keras.preprocessing.image import ImageDataGenerator\n",
    "\n",
    "# Ignore Warnings\n",
    "import warnings\n",
    "warnings.filterwarnings(\"ignore\")"
   ]
  },
  {
   "cell_type": "code",
   "execution_count": 2,
   "id": "f4aed892",
   "metadata": {},
   "outputs": [],
   "source": [
    "# Load and preprocess data\n",
    "data_dir = \"C:/Users/nani1/OneDrive/Desktop/oral cancer dataset/Oral Cancer\"\n",
    "labels = os.listdir(data_dir)\n",
    "filepaths = []\n",
    "for label in labels:\n",
    "    folder_path = os.path.join(data_dir, label)\n",
    "    filepaths.extend([os.path.join(folder_path, file) for file in os.listdir(folder_path)])"
   ]
  },
  {
   "cell_type": "code",
   "execution_count": 3,
   "id": "41f705d3",
   "metadata": {},
   "outputs": [],
   "source": [
    "# Create DataFrame\n",
    "df = pd.DataFrame({\"filepaths\": filepaths, \"labels\": [os.path.basename(os.path.dirname(path)) for path in filepaths]})"
   ]
  },
  {
   "cell_type": "code",
   "execution_count": 4,
   "id": "424bcd4b",
   "metadata": {},
   "outputs": [],
   "source": [
    "# Train-test split\n",
    "train_df, test_df = train_test_split(df, train_size=0.7, shuffle=True, random_state=123)\n",
    "valid_df, test_df = train_test_split(test_df, test_size=1/3, shuffle=True, random_state=123)\n"
   ]
  },
  {
   "cell_type": "code",
   "execution_count": 5,
   "id": "12ffc039",
   "metadata": {},
   "outputs": [],
   "source": [
    "# Image parameters\n",
    "batch_size = 128\n",
    "img_size = (224, 224)\n"
   ]
  },
  {
   "cell_type": "code",
   "execution_count": 6,
   "id": "e2f6fc93",
   "metadata": {},
   "outputs": [
    {
     "name": "stdout",
     "output_type": "stream",
     "text": [
      "Found 7001 validated image filenames belonging to 2 classes.\n",
      "Found 2000 validated image filenames belonging to 2 classes.\n",
      "Found 1001 validated image filenames belonging to 2 classes.\n"
     ]
    }
   ],
   "source": [
    "# Data Generators\n",
    "datagen = ImageDataGenerator(rescale=1./255,\n",
    "                             rotation_range=20,\n",
    "                             width_shift_range=0.2,\n",
    "                             height_shift_range=0.2,\n",
    "                             shear_range=0.2,\n",
    "                             zoom_range=0.2,\n",
    "                             horizontal_flip=True,\n",
    "                             fill_mode='nearest')\n",
    "train_gen = datagen.flow_from_dataframe(\n",
    "    train_df,\n",
    "    x_col='filepaths',\n",
    "    y_col='labels',\n",
    "    target_size=img_size,\n",
    "    batch_size=batch_size,\n",
    "    class_mode='categorical',\n",
    "    shuffle=True\n",
    ")\n",
    "valid_gen = datagen.flow_from_dataframe(\n",
    "    valid_df,\n",
    "    x_col='filepaths',\n",
    "    y_col='labels',\n",
    "    target_size=img_size,\n",
    "    batch_size=batch_size,\n",
    "    class_mode='categorical',\n",
    "    shuffle=False\n",
    ")\n",
    "test_gen = datagen.flow_from_dataframe(\n",
    "    test_df,\n",
    "    x_col='filepaths',\n",
    "    y_col='labels',\n",
    "    target_size=img_size,\n",
    "    batch_size=batch_size,\n",
    "    class_mode='categorical',\n",
    "    shuffle=False\n",
    ")\n"
   ]
  },
  {
   "cell_type": "code",
   "execution_count": 7,
   "id": "bc8ac8de",
   "metadata": {},
   "outputs": [],
   "source": [
    "# Base model\n",
    "base_model = DenseNet201(weights='imagenet', include_top=False, input_shape=(img_size[0], img_size[1], 3))\n",
    "for layer in base_model.layers:\n",
    "    layer.trainable = False"
   ]
  },
  {
   "cell_type": "code",
   "execution_count": 8,
   "id": "67e7b897",
   "metadata": {},
   "outputs": [],
   "source": [
    "# Custom head\n",
    "model = Sequential([\n",
    "    base_model,\n",
    "    GlobalAveragePooling2D(),\n",
    "    Dense(128, activation='relu'),\n",
    "    BatchNormalization(),\n",
    "    Dropout(0.36),\n",
    "    Dense(128, activation='relu'),\n",
    "    BatchNormalization(),\n",
    "    Dropout(0.36),\n",
    "    Dense(len(labels), activation='softmax')\n",
    "])"
   ]
  },
  {
   "cell_type": "code",
   "execution_count": 9,
   "id": "85e02b5b",
   "metadata": {},
   "outputs": [],
   "source": [
    "# Compile the model\n",
    "model.compile(optimizer='adam',\n",
    "              loss='categorical_crossentropy',\n",
    "              metrics=['accuracy'])\n"
   ]
  },
  {
   "cell_type": "code",
   "execution_count": 10,
   "id": "1bab8d52",
   "metadata": {},
   "outputs": [
    {
     "name": "stdout",
     "output_type": "stream",
     "text": [
      "Model: \"sequential\"\n",
      "_________________________________________________________________\n",
      " Layer (type)                Output Shape              Param #   \n",
      "=================================================================\n",
      " densenet201 (Functional)    (None, 7, 7, 1920)        18321984  \n",
      "                                                                 \n",
      " global_average_pooling2d (  (None, 1920)              0         \n",
      " GlobalAveragePooling2D)                                         \n",
      "                                                                 \n",
      " dense (Dense)               (None, 128)               245888    \n",
      "                                                                 \n",
      " batch_normalization (Batch  (None, 128)               512       \n",
      " Normalization)                                                  \n",
      "                                                                 \n",
      " dropout (Dropout)           (None, 128)               0         \n",
      "                                                                 \n",
      " dense_1 (Dense)             (None, 128)               16512     \n",
      "                                                                 \n",
      " batch_normalization_1 (Bat  (None, 128)               512       \n",
      " chNormalization)                                                \n",
      "                                                                 \n",
      " dropout_1 (Dropout)         (None, 128)               0         \n",
      "                                                                 \n",
      " dense_2 (Dense)             (None, 2)                 258       \n",
      "                                                                 \n",
      "=================================================================\n",
      "Total params: 18585666 (70.90 MB)\n",
      "Trainable params: 263170 (1.00 MB)\n",
      "Non-trainable params: 18322496 (69.89 MB)\n",
      "_________________________________________________________________\n"
     ]
    }
   ],
   "source": [
    "# Model Summary\n",
    "model.summary()"
   ]
  },
  {
   "cell_type": "code",
   "execution_count": 11,
   "id": "8a7fe0b9",
   "metadata": {},
   "outputs": [
    {
     "name": "stdout",
     "output_type": "stream",
     "text": [
      "Epoch 1/60\n",
      "55/55 [==============================] - 845s 15s/step - loss: 0.6911 - accuracy: 0.7018 - val_loss: 0.6159 - val_accuracy: 0.6430\n",
      "Epoch 2/60\n",
      "55/55 [==============================] - 837s 15s/step - loss: 0.4936 - accuracy: 0.7815 - val_loss: 0.4235 - val_accuracy: 0.8015\n",
      "Epoch 3/60\n",
      "55/55 [==============================] - 810s 15s/step - loss: 0.4252 - accuracy: 0.8117 - val_loss: 0.3676 - val_accuracy: 0.8415\n",
      "Epoch 4/60\n",
      "55/55 [==============================] - 778s 14s/step - loss: 0.3922 - accuracy: 0.8249 - val_loss: 0.3833 - val_accuracy: 0.8110\n",
      "Epoch 5/60\n",
      "55/55 [==============================] - 784s 14s/step - loss: 0.3788 - accuracy: 0.8295 - val_loss: 0.3374 - val_accuracy: 0.8610\n",
      "Epoch 6/60\n",
      "55/55 [==============================] - 777s 14s/step - loss: 0.3526 - accuracy: 0.8433 - val_loss: 0.3172 - val_accuracy: 0.8650\n",
      "Epoch 7/60\n",
      "55/55 [==============================] - 775s 14s/step - loss: 0.3307 - accuracy: 0.8587 - val_loss: 0.2937 - val_accuracy: 0.8645\n",
      "Epoch 8/60\n",
      "55/55 [==============================] - 788s 14s/step - loss: 0.3137 - accuracy: 0.8613 - val_loss: 0.2935 - val_accuracy: 0.8785\n",
      "Epoch 9/60\n",
      "55/55 [==============================] - 779s 14s/step - loss: 0.3003 - accuracy: 0.8692 - val_loss: 0.2954 - val_accuracy: 0.8685\n",
      "Epoch 10/60\n",
      "55/55 [==============================] - 786s 14s/step - loss: 0.2865 - accuracy: 0.8753 - val_loss: 0.2685 - val_accuracy: 0.8820\n",
      "Epoch 11/60\n",
      "55/55 [==============================] - 780s 14s/step - loss: 0.2748 - accuracy: 0.8822 - val_loss: 0.2538 - val_accuracy: 0.8900\n",
      "Epoch 12/60\n",
      "55/55 [==============================] - 774s 14s/step - loss: 0.2750 - accuracy: 0.8819 - val_loss: 0.2506 - val_accuracy: 0.8875\n",
      "Epoch 13/60\n",
      "55/55 [==============================] - 772s 14s/step - loss: 0.2619 - accuracy: 0.8907 - val_loss: 0.2520 - val_accuracy: 0.8925\n",
      "Epoch 14/60\n",
      "55/55 [==============================] - 772s 14s/step - loss: 0.2606 - accuracy: 0.8884 - val_loss: 0.2396 - val_accuracy: 0.8990\n",
      "Epoch 15/60\n",
      "55/55 [==============================] - 772s 14s/step - loss: 0.2406 - accuracy: 0.8969 - val_loss: 0.2263 - val_accuracy: 0.9080\n",
      "Epoch 16/60\n",
      "55/55 [==============================] - 772s 14s/step - loss: 0.2550 - accuracy: 0.8916 - val_loss: 0.2383 - val_accuracy: 0.9015\n",
      "Epoch 17/60\n",
      "55/55 [==============================] - 780s 14s/step - loss: 0.2427 - accuracy: 0.9004 - val_loss: 0.2512 - val_accuracy: 0.8975\n",
      "Epoch 18/60\n",
      "55/55 [==============================] - 779s 14s/step - loss: 0.2433 - accuracy: 0.9013 - val_loss: 0.2549 - val_accuracy: 0.8880\n",
      "Epoch 19/60\n",
      "55/55 [==============================] - 772s 14s/step - loss: 0.2413 - accuracy: 0.9004 - val_loss: 0.2131 - val_accuracy: 0.9090\n",
      "Epoch 20/60\n",
      "55/55 [==============================] - 778s 14s/step - loss: 0.2306 - accuracy: 0.8989 - val_loss: 0.2161 - val_accuracy: 0.9100\n",
      "Epoch 21/60\n",
      "55/55 [==============================] - 783s 14s/step - loss: 0.2375 - accuracy: 0.8999 - val_loss: 0.2202 - val_accuracy: 0.9090\n",
      "Epoch 22/60\n",
      "55/55 [==============================] - 777s 14s/step - loss: 0.2302 - accuracy: 0.9032 - val_loss: 0.2492 - val_accuracy: 0.8870\n",
      "Epoch 23/60\n",
      "55/55 [==============================] - 773s 14s/step - loss: 0.2245 - accuracy: 0.9060 - val_loss: 0.2162 - val_accuracy: 0.9070\n",
      "Epoch 24/60\n",
      "55/55 [==============================] - 774s 14s/step - loss: 0.2281 - accuracy: 0.9050 - val_loss: 0.2189 - val_accuracy: 0.9090\n",
      "Epoch 25/60\n",
      "55/55 [==============================] - 791s 14s/step - loss: 0.2060 - accuracy: 0.9122 - val_loss: 0.1938 - val_accuracy: 0.9200\n",
      "Epoch 26/60\n",
      "55/55 [==============================] - 807s 15s/step - loss: 0.2111 - accuracy: 0.9142 - val_loss: 0.1996 - val_accuracy: 0.9165\n",
      "Epoch 27/60\n",
      "55/55 [==============================] - 777s 14s/step - loss: 0.2082 - accuracy: 0.9182 - val_loss: 0.2041 - val_accuracy: 0.9135\n",
      "Epoch 28/60\n",
      "55/55 [==============================] - 773s 14s/step - loss: 0.2071 - accuracy: 0.9159 - val_loss: 0.2019 - val_accuracy: 0.9140\n",
      "Epoch 29/60\n",
      "55/55 [==============================] - 775s 14s/step - loss: 0.1930 - accuracy: 0.9192 - val_loss: 0.1800 - val_accuracy: 0.9250\n",
      "Epoch 30/60\n",
      "55/55 [==============================] - 779s 14s/step - loss: 0.1999 - accuracy: 0.9150 - val_loss: 0.1885 - val_accuracy: 0.9280\n",
      "Epoch 31/60\n",
      "55/55 [==============================] - 784s 14s/step - loss: 0.2017 - accuracy: 0.9203 - val_loss: 0.1939 - val_accuracy: 0.9160\n",
      "Epoch 32/60\n",
      "55/55 [==============================] - 774s 14s/step - loss: 0.1992 - accuracy: 0.9177 - val_loss: 0.2275 - val_accuracy: 0.9000\n",
      "Epoch 33/60\n",
      "55/55 [==============================] - 776s 14s/step - loss: 0.1931 - accuracy: 0.9202 - val_loss: 0.1751 - val_accuracy: 0.9260\n",
      "Epoch 34/60\n",
      "55/55 [==============================] - 772s 14s/step - loss: 0.1951 - accuracy: 0.9184 - val_loss: 0.2352 - val_accuracy: 0.8995\n",
      "Epoch 35/60\n",
      "55/55 [==============================] - 773s 14s/step - loss: 0.1916 - accuracy: 0.9213 - val_loss: 0.2286 - val_accuracy: 0.9010\n",
      "Epoch 36/60\n",
      "55/55 [==============================] - 778s 14s/step - loss: 0.1905 - accuracy: 0.9227 - val_loss: 0.1857 - val_accuracy: 0.9230\n",
      "Epoch 37/60\n",
      "55/55 [==============================] - 777s 14s/step - loss: 0.1916 - accuracy: 0.9243 - val_loss: 0.1718 - val_accuracy: 0.9265\n",
      "Epoch 38/60\n",
      "55/55 [==============================] - 774s 14s/step - loss: 0.1828 - accuracy: 0.9257 - val_loss: 0.1677 - val_accuracy: 0.9320\n",
      "Epoch 39/60\n",
      "55/55 [==============================] - 774s 14s/step - loss: 0.1910 - accuracy: 0.9212 - val_loss: 0.1887 - val_accuracy: 0.9195\n",
      "Epoch 40/60\n",
      "55/55 [==============================] - 780s 14s/step - loss: 0.1943 - accuracy: 0.9232 - val_loss: 0.1806 - val_accuracy: 0.9260\n",
      "Epoch 41/60\n",
      "55/55 [==============================] - 806s 15s/step - loss: 0.1672 - accuracy: 0.9317 - val_loss: 0.1838 - val_accuracy: 0.9240\n",
      "Epoch 42/60\n",
      "55/55 [==============================] - 812s 15s/step - loss: 0.1766 - accuracy: 0.9316 - val_loss: 0.1673 - val_accuracy: 0.9295\n",
      "Epoch 43/60\n",
      "55/55 [==============================] - 799s 15s/step - loss: 0.1876 - accuracy: 0.9234 - val_loss: 0.2191 - val_accuracy: 0.9030\n",
      "Epoch 44/60\n",
      "55/55 [==============================] - 790s 14s/step - loss: 0.1692 - accuracy: 0.9296 - val_loss: 0.1881 - val_accuracy: 0.9275\n",
      "Epoch 45/60\n",
      "55/55 [==============================] - 781s 14s/step - loss: 0.1845 - accuracy: 0.9220 - val_loss: 0.1793 - val_accuracy: 0.9285\n",
      "Epoch 46/60\n",
      "55/55 [==============================] - 803s 15s/step - loss: 0.1810 - accuracy: 0.9253 - val_loss: 0.1734 - val_accuracy: 0.9335\n",
      "Epoch 47/60\n",
      "55/55 [==============================] - 861s 16s/step - loss: 0.1886 - accuracy: 0.9209 - val_loss: 0.1916 - val_accuracy: 0.9185\n",
      "Epoch 48/60\n",
      "55/55 [==============================] - 851s 16s/step - loss: 0.1714 - accuracy: 0.9324 - val_loss: 0.2147 - val_accuracy: 0.9065\n",
      "Epoch 49/60\n",
      "55/55 [==============================] - 854s 16s/step - loss: 0.1773 - accuracy: 0.9272 - val_loss: 0.1699 - val_accuracy: 0.9325\n",
      "Epoch 50/60\n",
      "55/55 [==============================] - 860s 16s/step - loss: 0.1651 - accuracy: 0.9354 - val_loss: 0.1624 - val_accuracy: 0.9315\n",
      "Epoch 51/60\n",
      "55/55 [==============================] - 856s 16s/step - loss: 0.1732 - accuracy: 0.9312 - val_loss: 0.1749 - val_accuracy: 0.9285\n",
      "Epoch 52/60\n",
      "55/55 [==============================] - 851s 15s/step - loss: 0.1626 - accuracy: 0.9360 - val_loss: 0.1532 - val_accuracy: 0.9375\n",
      "Epoch 53/60\n",
      "55/55 [==============================] - 783s 14s/step - loss: 0.1588 - accuracy: 0.9363 - val_loss: 0.1770 - val_accuracy: 0.9265\n",
      "Epoch 54/60\n",
      "55/55 [==============================] - 3909s 72s/step - loss: 0.1636 - accuracy: 0.9349 - val_loss: 0.1814 - val_accuracy: 0.9245\n",
      "Epoch 55/60\n",
      "55/55 [==============================] - 823s 15s/step - loss: 0.1661 - accuracy: 0.9347 - val_loss: 0.1470 - val_accuracy: 0.9410\n",
      "Epoch 56/60\n",
      "55/55 [==============================] - 777s 14s/step - loss: 0.1607 - accuracy: 0.9364 - val_loss: 0.2363 - val_accuracy: 0.9060\n",
      "Epoch 57/60\n",
      "55/55 [==============================] - 798s 15s/step - loss: 0.1633 - accuracy: 0.9312 - val_loss: 0.1495 - val_accuracy: 0.9365\n",
      "Epoch 58/60\n"
     ]
    },
    {
     "name": "stdout",
     "output_type": "stream",
     "text": [
      "55/55 [==============================] - 840s 15s/step - loss: 0.1615 - accuracy: 0.9349 - val_loss: 0.1589 - val_accuracy: 0.9300\n",
      "Epoch 59/60\n",
      "55/55 [==============================] - 820s 15s/step - loss: 0.1701 - accuracy: 0.9307 - val_loss: 0.1483 - val_accuracy: 0.9355\n",
      "Epoch 60/60\n",
      "55/55 [==============================] - 806s 15s/step - loss: 0.1574 - accuracy: 0.9350 - val_loss: 0.1492 - val_accuracy: 0.9400\n"
     ]
    }
   ],
   "source": [
    "# Train the model\n",
    "history = model.fit(train_gen,\n",
    "                    epochs=60,\n",
    "                    validation_data=valid_gen)"
   ]
  },
  {
   "cell_type": "code",
   "execution_count": 12,
   "id": "fed5a6e5",
   "metadata": {},
   "outputs": [
    {
     "name": "stdout",
     "output_type": "stream",
     "text": [
      "8/8 [==============================] - 94s 12s/step - loss: 0.1432 - accuracy: 0.9331\n",
      "Test Loss: 0.14318840205669403\n",
      "Test Accuracy: 0.9330669045448303\n"
     ]
    }
   ],
   "source": [
    "# Evaluate the model\n",
    "test_loss, test_acc = model.evaluate(test_gen)\n",
    "print(\"Test Loss:\", test_loss)\n",
    "print(\"Test Accuracy:\", test_acc)"
   ]
  },
  {
   "cell_type": "code",
   "execution_count": 13,
   "id": "e93cc17e",
   "metadata": {},
   "outputs": [
    {
     "name": "stdout",
     "output_type": "stream",
     "text": [
      "8/8 [==============================] - 104s 12s/step\n"
     ]
    }
   ],
   "source": [
    "# Confusion matrix\n",
    "y_pred = model.predict(test_gen)\n",
    "y_pred_classes = np.argmax(y_pred, axis=1)\n",
    "true_classes = test_gen.classes\n",
    "class_labels = list(test_gen.class_indices.keys())\n",
    "cm = confusion_matrix(true_classes, y_pred_classes)"
   ]
  },
  {
   "cell_type": "code",
   "execution_count": 14,
   "id": "3074aa4d",
   "metadata": {},
   "outputs": [
    {
     "data": {
      "image/png": "[encoded data removed]",
      "text/plain": [
       "<Figure size 800x800 with 2 Axes>"
      ]
     },
     "metadata": {},
     "output_type": "display_data"
    }
   ],
   "source": [
    "# Plot confusion matrix\n",
    "plt.figure(figsize=(8, 8))\n",
    "sns.heatmap(cm, annot=True, fmt='d', cmap='Blues', xticklabels=class_labels, yticklabels=class_labels)\n",
    "plt.xlabel('Predicted')\n",
    "plt.ylabel('Actual')\n",
    "plt.title('Confusion Matrix')\n",
    "plt.show()"
   ]
  },
  {
   "cell_type": "code",
   "execution_count": 15,
   "id": "dfe91e67",
   "metadata": {},
   "outputs": [
    {
     "name": "stdout",
     "output_type": "stream",
     "text": [
      "              precision    recall  f1-score   support\n",
      "\n",
      " oral_normal       0.93      0.95      0.94       507\n",
      "    oral_scc       0.95      0.93      0.94       494\n",
      "\n",
      "    accuracy                           0.94      1001\n",
      "   macro avg       0.94      0.94      0.94      1001\n",
      "weighted avg       0.94      0.94      0.94      1001\n",
      "\n"
     ]
    }
   ],
   "source": [
    "# Classification report\n",
    "print(classification_report(true_classes, y_pred_classes, target_names=class_labels))\n"
   ]
  },
  {
   "cell_type": "code",
   "execution_count": 16,
   "id": "c3b9d3fd",
   "metadata": {},
   "outputs": [],
   "source": [
    "model.save(r'C:/Users/nani1/OneDrive/Desktop/Densenet 201/60 epochs/densenet201_60.h5')\n",
    "model1 = tf.keras.models.load_model(r'C:/Users/nani1/OneDrive/Desktop/Densenet 201/60 epochs/Densenet201_60.h5')"
   ]
  },
  {
   "cell_type": "code",
   "execution_count": null,
   "id": "b52af1c5",
   "metadata": {},
   "outputs": [],
   "source": []
  }
 ],
 "metadata": {
  "kernelspec": {
   "display_name": "Python 3 (ipykernel)",
   "language": "python",
   "name": "python3"
  },
  "language_info": {
   "codemirror_mode": {
    "name": "ipython",
    "version": 3
   },
   "file_extension": ".py",
   "mimetype": "text/x-python",
   "name": "python",
   "nbconvert_exporter": "python",
   "pygments_lexer": "ipython3",
   "version": "3.9.13"
  }
 },
 "nbformat": 4,
 "nbformat_minor": 5
}
