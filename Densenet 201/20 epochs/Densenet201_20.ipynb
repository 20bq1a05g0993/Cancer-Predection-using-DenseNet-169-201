{
 "cells": [
  {
   "cell_type": "code",
   "execution_count": 1,
   "id": "634b091e",
   "metadata": {},
   "outputs": [],
   "source": [
    "# Importing necessary libraries\n",
    "import os\n",
    "import numpy as np\n",
    "import pandas as pd\n",
    "import matplotlib.pyplot as plt\n",
    "import seaborn as sns\n",
    "from sklearn.model_selection import train_test_split\n",
    "from sklearn.metrics import confusion_matrix, classification_report\n",
    "import tensorflow as tf\n",
    "from tensorflow.keras.models import Sequential\n",
    "from tensorflow.keras.layers import Dense, GlobalAveragePooling2D, Dropout,BatchNormalization\n",
    "from tensorflow.keras.applications import DenseNet201\n",
    "from tensorflow.keras.preprocessing.image import ImageDataGenerator\n",
    "\n",
    "# Ignore Warnings\n",
    "import warnings\n",
    "warnings.filterwarnings(\"ignore\")"
   ]
  },
  {
   "cell_type": "code",
   "execution_count": 2,
   "id": "80896c80",
   "metadata": {},
   "outputs": [],
   "source": [
    "# Load and preprocess data\n",
    "data_dir = \"C:/Users/nani1/OneDrive/Desktop/oral cancer dataset/Oral Cancer\"\n",
    "labels = os.listdir(data_dir)\n",
    "filepaths = []\n",
    "for label in labels:\n",
    "    folder_path = os.path.join(data_dir, label)\n",
    "    filepaths.extend([os.path.join(folder_path, file) for file in os.listdir(folder_path)])"
   ]
  },
  {
   "cell_type": "code",
   "execution_count": 3,
   "id": "2c4049e1",
   "metadata": {},
   "outputs": [],
   "source": [
    "# Create DataFrame\n",
    "df = pd.DataFrame({\"filepaths\": filepaths, \"labels\": [os.path.basename(os.path.dirname(path)) for path in filepaths]})"
   ]
  },
  {
   "cell_type": "code",
   "execution_count": 4,
   "id": "d9e27dd1",
   "metadata": {},
   "outputs": [],
   "source": [
    "# Train-test split\n",
    "train_df, test_df = train_test_split(df, train_size=0.7, shuffle=True, random_state=123)\n",
    "valid_df, test_df = train_test_split(test_df, test_size=1/3, shuffle=True, random_state=123)\n"
   ]
  },
  {
   "cell_type": "code",
   "execution_count": 5,
   "id": "46350063",
   "metadata": {},
   "outputs": [],
   "source": [
    "# Image parameters\n",
    "batch_size = 128\n",
    "img_size = (224, 224)\n"
   ]
  },
  {
   "cell_type": "code",
   "execution_count": 6,
   "id": "572812c1",
   "metadata": {},
   "outputs": [
    {
     "name": "stdout",
     "output_type": "stream",
     "text": [
      "Found 7001 validated image filenames belonging to 2 classes.\n",
      "Found 2000 validated image filenames belonging to 2 classes.\n",
      "Found 1001 validated image filenames belonging to 2 classes.\n"
     ]
    }
   ],
   "source": [
    "# Data Generators\n",
    "datagen = ImageDataGenerator(rescale=1./255,\n",
    "                             rotation_range=20,\n",
    "                             width_shift_range=0.2,\n",
    "                             height_shift_range=0.2,\n",
    "                             shear_range=0.2,\n",
    "                             zoom_range=0.2,\n",
    "                             horizontal_flip=True,\n",
    "                             fill_mode='nearest')\n",
    "train_gen = datagen.flow_from_dataframe(\n",
    "    train_df,\n",
    "    x_col='filepaths',\n",
    "    y_col='labels',\n",
    "    target_size=img_size,\n",
    "    batch_size=batch_size,\n",
    "    class_mode='categorical',\n",
    "    shuffle=True\n",
    ")\n",
    "valid_gen = datagen.flow_from_dataframe(\n",
    "    valid_df,\n",
    "    x_col='filepaths',\n",
    "    y_col='labels',\n",
    "    target_size=img_size,\n",
    "    batch_size=batch_size,\n",
    "    class_mode='categorical',\n",
    "    shuffle=False\n",
    ")\n",
    "test_gen = datagen.flow_from_dataframe(\n",
    "    test_df,\n",
    "    x_col='filepaths',\n",
    "    y_col='labels',\n",
    "    target_size=img_size,\n",
    "    batch_size=batch_size,\n",
    "    class_mode='categorical',\n",
    "    shuffle=False\n",
    ")\n"
   ]
  },
  {
   "cell_type": "code",
   "execution_count": 7,
   "id": "5df12497",
   "metadata": {},
   "outputs": [],
   "source": [
    "# Base model\n",
    "base_model = DenseNet201(weights='imagenet', include_top=False, input_shape=(img_size[0], img_size[1], 3))\n",
    "for layer in base_model.layers:\n",
    "    layer.trainable = False"
   ]
  },
  {
   "cell_type": "code",
   "execution_count": 8,
   "id": "d2bd9483",
   "metadata": {},
   "outputs": [],
   "source": [
    "# Custom head\n",
    "model = Sequential([\n",
    "    base_model,\n",
    "    GlobalAveragePooling2D(),\n",
    "    Dense(128, activation='relu'),\n",
    "    BatchNormalization(),\n",
    "    Dropout(0.36),\n",
    "    Dense(128, activation='relu'),\n",
    "    BatchNormalization(),\n",
    "    Dropout(0.36),\n",
    "    Dense(len(labels), activation='softmax')\n",
    "])"
   ]
  },
  {
   "cell_type": "code",
   "execution_count": 9,
   "id": "6292dc18",
   "metadata": {},
   "outputs": [],
   "source": [
    "# Compile the model\n",
    "model.compile(optimizer='adam',\n",
    "              loss='categorical_crossentropy',\n",
    "              metrics=['accuracy'])\n"
   ]
  },
  {
   "cell_type": "code",
   "execution_count": 10,
   "id": "30b9a000",
   "metadata": {},
   "outputs": [
    {
     "name": "stdout",
     "output_type": "stream",
     "text": [
      "Model: \"sequential\"\n",
      "_________________________________________________________________\n",
      " Layer (type)                Output Shape              Param #   \n",
      "=================================================================\n",
      " densenet201 (Functional)    (None, 7, 7, 1920)        18321984  \n",
      "                                                                 \n",
      " global_average_pooling2d (  (None, 1920)              0         \n",
      " GlobalAveragePooling2D)                                         \n",
      "                                                                 \n",
      " dense (Dense)               (None, 128)               245888    \n",
      "                                                                 \n",
      " batch_normalization (Batch  (None, 128)               512       \n",
      " Normalization)                                                  \n",
      "                                                                 \n",
      " dropout (Dropout)           (None, 128)               0         \n",
      "                                                                 \n",
      " dense_1 (Dense)             (None, 128)               16512     \n",
      "                                                                 \n",
      " batch_normalization_1 (Bat  (None, 128)               512       \n",
      " chNormalization)                                                \n",
      "                                                                 \n",
      " dropout_1 (Dropout)         (None, 128)               0         \n",
      "                                                                 \n",
      " dense_2 (Dense)             (None, 2)                 258       \n",
      "                                                                 \n",
      "=================================================================\n",
      "Total params: 18585666 (70.90 MB)\n",
      "Trainable params: 263170 (1.00 MB)\n",
      "Non-trainable params: 18322496 (69.89 MB)\n",
      "_________________________________________________________________\n"
     ]
    }
   ],
   "source": [
    "# Model Summary\n",
    "model.summary()"
   ]
  },
  {
   "cell_type": "code",
   "execution_count": 11,
   "id": "7e19a18d",
   "metadata": {},
   "outputs": [
    {
     "name": "stdout",
     "output_type": "stream",
     "text": [
      "Epoch 1/20\n",
      "55/55 [==============================] - 862s 16s/step - loss: 0.7562 - accuracy: 0.6825 - val_loss: 0.4988 - val_accuracy: 0.7470\n",
      "Epoch 2/20\n",
      "55/55 [==============================] - 867s 16s/step - loss: 0.5214 - accuracy: 0.7712 - val_loss: 0.4031 - val_accuracy: 0.8120\n",
      "Epoch 3/20\n",
      "55/55 [==============================] - 827s 15s/step - loss: 0.4537 - accuracy: 0.7977 - val_loss: 0.3577 - val_accuracy: 0.8460\n",
      "Epoch 4/20\n",
      "55/55 [==============================] - 811s 15s/step - loss: 0.4124 - accuracy: 0.8167 - val_loss: 0.3324 - val_accuracy: 0.8570\n",
      "Epoch 5/20\n",
      "55/55 [==============================] - 808s 15s/step - loss: 0.3827 - accuracy: 0.8299 - val_loss: 0.3266 - val_accuracy: 0.8595\n",
      "Epoch 6/20\n",
      "55/55 [==============================] - 762s 14s/step - loss: 0.3542 - accuracy: 0.8442 - val_loss: 0.3224 - val_accuracy: 0.8600\n",
      "Epoch 7/20\n",
      "55/55 [==============================] - 766s 14s/step - loss: 0.3350 - accuracy: 0.8550 - val_loss: 0.2869 - val_accuracy: 0.8720\n",
      "Epoch 8/20\n",
      "55/55 [==============================] - 751s 14s/step - loss: 0.3272 - accuracy: 0.8539 - val_loss: 0.2810 - val_accuracy: 0.8770\n",
      "Epoch 9/20\n",
      "55/55 [==============================] - 750s 14s/step - loss: 0.3090 - accuracy: 0.8659 - val_loss: 0.2805 - val_accuracy: 0.8820\n",
      "Epoch 10/20\n",
      "55/55 [==============================] - 765s 14s/step - loss: 0.2949 - accuracy: 0.8713 - val_loss: 0.2732 - val_accuracy: 0.8820\n",
      "Epoch 11/20\n",
      "55/55 [==============================] - 830s 15s/step - loss: 0.2839 - accuracy: 0.8790 - val_loss: 0.2918 - val_accuracy: 0.8750\n",
      "Epoch 12/20\n",
      "55/55 [==============================] - 834s 15s/step - loss: 0.2827 - accuracy: 0.8819 - val_loss: 0.2579 - val_accuracy: 0.8845\n",
      "Epoch 13/20\n",
      "55/55 [==============================] - 838s 15s/step - loss: 0.2833 - accuracy: 0.8777 - val_loss: 0.2654 - val_accuracy: 0.8870\n",
      "Epoch 14/20\n",
      "55/55 [==============================] - 850s 15s/step - loss: 0.2708 - accuracy: 0.8837 - val_loss: 0.2587 - val_accuracy: 0.8855\n",
      "Epoch 15/20\n",
      "55/55 [==============================] - 842s 15s/step - loss: 0.2623 - accuracy: 0.8877 - val_loss: 0.3353 - val_accuracy: 0.8530\n",
      "Epoch 16/20\n",
      "55/55 [==============================] - 853s 16s/step - loss: 0.2610 - accuracy: 0.8924 - val_loss: 0.2329 - val_accuracy: 0.8980\n",
      "Epoch 17/20\n",
      "55/55 [==============================] - 839s 15s/step - loss: 0.2481 - accuracy: 0.8942 - val_loss: 0.2733 - val_accuracy: 0.8915\n",
      "Epoch 18/20\n",
      "55/55 [==============================] - 816s 15s/step - loss: 0.2499 - accuracy: 0.8940 - val_loss: 0.2558 - val_accuracy: 0.8945\n",
      "Epoch 19/20\n",
      "55/55 [==============================] - 800s 15s/step - loss: 0.2327 - accuracy: 0.9014 - val_loss: 0.2231 - val_accuracy: 0.9025\n",
      "Epoch 20/20\n",
      "55/55 [==============================] - 832s 15s/step - loss: 0.2395 - accuracy: 0.9017 - val_loss: 0.2310 - val_accuracy: 0.9015\n"
     ]
    }
   ],
   "source": [
    "# Train the model\n",
    "history = model.fit(train_gen,\n",
    "                    epochs=20,\n",
    "                    validation_data=valid_gen)"
   ]
  },
  {
   "cell_type": "code",
   "execution_count": 12,
   "id": "f454817c",
   "metadata": {},
   "outputs": [
    {
     "name": "stdout",
     "output_type": "stream",
     "text": [
      "8/8 [==============================] - 97s 12s/step - loss: 0.2422 - accuracy: 0.8931\n",
      "Test Loss: 0.24223683774471283\n",
      "Test Accuracy: 0.8931068778038025\n"
     ]
    }
   ],
   "source": [
    "# Evaluate the model\n",
    "test_loss, test_acc = model.evaluate(test_gen)\n",
    "print(\"Test Loss:\", test_loss)\n",
    "print(\"Test Accuracy:\", test_acc)"
   ]
  },
  {
   "cell_type": "code",
   "execution_count": 13,
   "id": "eb41c78d",
   "metadata": {},
   "outputs": [
    {
     "name": "stdout",
     "output_type": "stream",
     "text": [
      "8/8 [==============================] - 96s 11s/step\n"
     ]
    }
   ],
   "source": [
    "# Confusion matrix\n",
    "y_pred = model.predict(test_gen)\n",
    "y_pred_classes = np.argmax(y_pred, axis=1)\n",
    "true_classes = test_gen.classes\n",
    "class_labels = list(test_gen.class_indices.keys())\n",
    "cm = confusion_matrix(true_classes, y_pred_classes)"
   ]
  },
  {
   "cell_type": "code",
   "execution_count": 14,
   "id": "5f145b5d",
   "metadata": {},
   "outputs": [
    {
     "data": {
      "image/png": "[encoded data removed]",
      "text/plain": [
       "<Figure size 800x800 with 2 Axes>"
      ]
     },
     "metadata": {},
     "output_type": "display_data"
    }
   ],
   "source": [
    "# Plot confusion matrix\n",
    "plt.figure(figsize=(8, 8))\n",
    "sns.heatmap(cm, annot=True, fmt='d', cmap='Blues', xticklabels=class_labels, yticklabels=class_labels)\n",
    "plt.xlabel('Predicted')\n",
    "plt.ylabel('Actual')\n",
    "plt.title('Confusion Matrix')\n",
    "plt.show()"
   ]
  },
  {
   "cell_type": "code",
   "execution_count": 15,
   "id": "1cb2a2b5",
   "metadata": {},
   "outputs": [
    {
     "name": "stdout",
     "output_type": "stream",
     "text": [
      "              precision    recall  f1-score   support\n",
      "\n",
      " oral_normal       0.91      0.90      0.91       507\n",
      "    oral_scc       0.90      0.91      0.91       494\n",
      "\n",
      "    accuracy                           0.91      1001\n",
      "   macro avg       0.91      0.91      0.91      1001\n",
      "weighted avg       0.91      0.91      0.91      1001\n",
      "\n"
     ]
    }
   ],
   "source": [
    "# Classification report\n",
    "print(classification_report(true_classes, y_pred_classes, target_names=class_labels))\n"
   ]
  },
  {
   "cell_type": "code",
   "execution_count": 16,
   "id": "a632b411",
   "metadata": {},
   "outputs": [],
   "source": [
    "model.save(r'C:/Users/nani1/OneDrive/Desktop/Densenet 201/20 epochs/densenet201_20.h5')\n",
    "model1 = tf.keras.models.load_model(r'C:/Users/nani1/OneDrive/Desktop/Densenet 201/20 epochs/Densenet201_20.h5')"
   ]
  },
  {
   "cell_type": "code",
   "execution_count": null,
   "id": "8c0ccb93",
   "metadata": {},
   "outputs": [],
   "source": []
  }
 ],
 "metadata": {
  "kernelspec": {
   "display_name": "Python 3 (ipykernel)",
   "language": "python",
   "name": "python3"
  },
  "language_info": {
   "codemirror_mode": {
    "name": "ipython",
    "version": 3
   },
   "file_extension": ".py",
   "mimetype": "text/x-python",
   "name": "python",
   "nbconvert_exporter": "python",
   "pygments_lexer": "ipython3",
   "version": "3.9.13"
  }
 },
 "nbformat": 4,
 "nbformat_minor": 5
}
