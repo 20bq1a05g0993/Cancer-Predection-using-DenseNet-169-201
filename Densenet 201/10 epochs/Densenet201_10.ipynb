{
 "cells": [
  {
   "cell_type": "code",
   "execution_count": 1,
   "id": "410bde0c",
   "metadata": {},
   "outputs": [],
   "source": [
    "# Importing necessary libraries\n",
    "import os\n",
    "import numpy as np\n",
    "import pandas as pd\n",
    "import matplotlib.pyplot as plt\n",
    "import seaborn as sns\n",
    "from sklearn.model_selection import train_test_split\n",
    "from sklearn.metrics import confusion_matrix, classification_report\n",
    "import tensorflow as tf\n",
    "from tensorflow.keras.models import Sequential\n",
    "from tensorflow.keras.layers import Dense, GlobalAveragePooling2D, Dropout,BatchNormalization\n",
    "from tensorflow.keras.applications import DenseNet201\n",
    "from tensorflow.keras.preprocessing.image import ImageDataGenerator\n",
    "\n",
    "# Ignore Warnings\n",
    "import warnings\n",
    "warnings.filterwarnings(\"ignore\")"
   ]
  },
  {
   "cell_type": "code",
   "execution_count": 2,
   "id": "a69aee42",
   "metadata": {},
   "outputs": [],
   "source": [
    "# Load and preprocess data\n",
    "data_dir = \"C:/Users/nani1/OneDrive/Desktop/oral cancer dataset/Oral Cancer\"\n",
    "labels = os.listdir(data_dir)\n",
    "filepaths = []\n",
    "for label in labels:\n",
    "    folder_path = os.path.join(data_dir, label)\n",
    "    filepaths.extend([os.path.join(folder_path, file) for file in os.listdir(folder_path)])"
   ]
  },
  {
   "cell_type": "code",
   "execution_count": 3,
   "id": "420f75ca",
   "metadata": {},
   "outputs": [],
   "source": [
    "# Create DataFrame\n",
    "df = pd.DataFrame({\"filepaths\": filepaths, \"labels\": [os.path.basename(os.path.dirname(path)) for path in filepaths]})"
   ]
  },
  {
   "cell_type": "code",
   "execution_count": 4,
   "id": "858c8359",
   "metadata": {},
   "outputs": [],
   "source": [
    "# Train-test split\n",
    "train_df, test_df = train_test_split(df, train_size=0.7, shuffle=True, random_state=123)\n",
    "valid_df, test_df = train_test_split(test_df, test_size=1/3, shuffle=True, random_state=123)\n"
   ]
  },
  {
   "cell_type": "code",
   "execution_count": 5,
   "id": "1f94be55",
   "metadata": {},
   "outputs": [],
   "source": [
    "# Image parameters\n",
    "batch_size = 128\n",
    "img_size = (224, 224)\n"
   ]
  },
  {
   "cell_type": "code",
   "execution_count": 6,
   "id": "1503427a",
   "metadata": {},
   "outputs": [
    {
     "name": "stdout",
     "output_type": "stream",
     "text": [
      "Found 7001 validated image filenames belonging to 2 classes.\n",
      "Found 2000 validated image filenames belonging to 2 classes.\n",
      "Found 1001 validated image filenames belonging to 2 classes.\n"
     ]
    }
   ],
   "source": [
    "# Data Generators\n",
    "datagen = ImageDataGenerator(rescale=1./255,\n",
    "                             rotation_range=20,\n",
    "                             width_shift_range=0.2,\n",
    "                             height_shift_range=0.2,\n",
    "                             shear_range=0.2,\n",
    "                             zoom_range=0.2,\n",
    "                             horizontal_flip=True,\n",
    "                             fill_mode='nearest')\n",
    "train_gen = datagen.flow_from_dataframe(\n",
    "    train_df,\n",
    "    x_col='filepaths',\n",
    "    y_col='labels',\n",
    "    target_size=img_size,\n",
    "    batch_size=batch_size,\n",
    "    class_mode='categorical',\n",
    "    shuffle=True\n",
    ")\n",
    "valid_gen = datagen.flow_from_dataframe(\n",
    "    valid_df,\n",
    "    x_col='filepaths',\n",
    "    y_col='labels',\n",
    "    target_size=img_size,\n",
    "    batch_size=batch_size,\n",
    "    class_mode='categorical',\n",
    "    shuffle=False\n",
    ")\n",
    "test_gen = datagen.flow_from_dataframe(\n",
    "    test_df,\n",
    "    x_col='filepaths',\n",
    "    y_col='labels',\n",
    "    target_size=img_size,\n",
    "    batch_size=batch_size,\n",
    "    class_mode='categorical',\n",
    "    shuffle=False\n",
    ")\n"
   ]
  },
  {
   "cell_type": "code",
   "execution_count": 7,
   "id": "719bc0ea",
   "metadata": {},
   "outputs": [],
   "source": [
    "# Base model\n",
    "base_model = DenseNet201(weights='imagenet', include_top=False, input_shape=(img_size[0], img_size[1], 3))\n",
    "for layer in base_model.layers:\n",
    "    layer.trainable = False"
   ]
  },
  {
   "cell_type": "code",
   "execution_count": 8,
   "id": "c5d7429b",
   "metadata": {},
   "outputs": [],
   "source": [
    "# Custom head\n",
    "model = Sequential([\n",
    "    base_model,\n",
    "    GlobalAveragePooling2D(),\n",
    "    Dense(128, activation='relu'),\n",
    "    BatchNormalization(),\n",
    "    Dropout(0.36),\n",
    "    Dense(128, activation='relu'),\n",
    "    BatchNormalization(),\n",
    "    Dropout(0.36),\n",
    "    Dense(len(labels), activation='softmax')\n",
    "])"
   ]
  },
  {
   "cell_type": "code",
   "execution_count": 9,
   "id": "21b69bbe",
   "metadata": {},
   "outputs": [],
   "source": [
    "# Compile the model\n",
    "model.compile(optimizer='adam',\n",
    "              loss='categorical_crossentropy',\n",
    "              metrics=['accuracy'])\n"
   ]
  },
  {
   "cell_type": "code",
   "execution_count": 10,
   "id": "6c01b633",
   "metadata": {},
   "outputs": [
    {
     "name": "stdout",
     "output_type": "stream",
     "text": [
      "Model: \"sequential\"\n",
      "_________________________________________________________________\n",
      " Layer (type)                Output Shape              Param #   \n",
      "=================================================================\n",
      " densenet201 (Functional)    (None, 7, 7, 1920)        18321984  \n",
      "                                                                 \n",
      " global_average_pooling2d (  (None, 1920)              0         \n",
      " GlobalAveragePooling2D)                                         \n",
      "                                                                 \n",
      " dense (Dense)               (None, 128)               245888    \n",
      "                                                                 \n",
      " batch_normalization (Batch  (None, 128)               512       \n",
      " Normalization)                                                  \n",
      "                                                                 \n",
      " dropout (Dropout)           (None, 128)               0         \n",
      "                                                                 \n",
      " dense_1 (Dense)             (None, 128)               16512     \n",
      "                                                                 \n",
      " batch_normalization_1 (Bat  (None, 128)               512       \n",
      " chNormalization)                                                \n",
      "                                                                 \n",
      " dropout_1 (Dropout)         (None, 128)               0         \n",
      "                                                                 \n",
      " dense_2 (Dense)             (None, 2)                 258       \n",
      "                                                                 \n",
      "=================================================================\n",
      "Total params: 18585666 (70.90 MB)\n",
      "Trainable params: 263170 (1.00 MB)\n",
      "Non-trainable params: 18322496 (69.89 MB)\n",
      "_________________________________________________________________\n"
     ]
    }
   ],
   "source": [
    "# Model Summary\n",
    "model.summary()"
   ]
  },
  {
   "cell_type": "code",
   "execution_count": 11,
   "id": "bc7f7abd",
   "metadata": {},
   "outputs": [
    {
     "name": "stdout",
     "output_type": "stream",
     "text": [
      "Epoch 1/10\n",
      "55/55 [==============================] - 779s 14s/step - loss: 0.7442 - accuracy: 0.6692 - val_loss: 0.4735 - val_accuracy: 0.7710\n",
      "Epoch 2/10\n",
      "55/55 [==============================] - 769s 14s/step - loss: 0.5052 - accuracy: 0.7733 - val_loss: 0.4164 - val_accuracy: 0.8025\n",
      "Epoch 3/10\n",
      "55/55 [==============================] - 771s 14s/step - loss: 0.4325 - accuracy: 0.8047 - val_loss: 0.3683 - val_accuracy: 0.8405\n",
      "Epoch 4/10\n",
      "55/55 [==============================] - 764s 14s/step - loss: 0.4003 - accuracy: 0.8206 - val_loss: 0.3382 - val_accuracy: 0.8480\n",
      "Epoch 5/10\n",
      "55/55 [==============================] - 755s 14s/step - loss: 0.3699 - accuracy: 0.8373 - val_loss: 0.3483 - val_accuracy: 0.8410\n",
      "Epoch 6/10\n",
      "55/55 [==============================] - 759s 14s/step - loss: 0.3509 - accuracy: 0.8485 - val_loss: 0.3097 - val_accuracy: 0.8625\n",
      "Epoch 7/10\n",
      "55/55 [==============================] - 757s 14s/step - loss: 0.3283 - accuracy: 0.8560 - val_loss: 0.2942 - val_accuracy: 0.8750\n",
      "Epoch 8/10\n",
      "55/55 [==============================] - 753s 14s/step - loss: 0.3123 - accuracy: 0.8657 - val_loss: 0.2919 - val_accuracy: 0.8795\n",
      "Epoch 9/10\n",
      "55/55 [==============================] - 751s 14s/step - loss: 0.2983 - accuracy: 0.8693 - val_loss: 0.2577 - val_accuracy: 0.8930\n",
      "Epoch 10/10\n",
      "55/55 [==============================] - 750s 14s/step - loss: 0.2947 - accuracy: 0.8727 - val_loss: 0.2774 - val_accuracy: 0.8765\n"
     ]
    }
   ],
   "source": [
    "# Train the model\n",
    "history = model.fit(train_gen,\n",
    "                    epochs=10,\n",
    "                    validation_data=valid_gen)"
   ]
  },
  {
   "cell_type": "code",
   "execution_count": 14,
   "id": "246c073a",
   "metadata": {},
   "outputs": [
    {
     "name": "stdout",
     "output_type": "stream",
     "text": [
      "8/8 [==============================] - 96s 12s/step - loss: 0.2420 - accuracy: 0.8931\n",
      "Test Loss: 0.24196922779083252\n",
      "Test Accuracy: 0.8931068778038025\n"
     ]
    }
   ],
   "source": [
    "# Evaluate the model\n",
    "test_loss, test_acc = model.evaluate(test_gen)\n",
    "print(\"Test Loss:\", test_loss)\n",
    "print(\"Test Accuracy:\", test_acc)"
   ]
  },
  {
   "cell_type": "code",
   "execution_count": 13,
   "id": "81d7c418",
   "metadata": {},
   "outputs": [
    {
     "name": "stdout",
     "output_type": "stream",
     "text": [
      "8/8 [==============================] - 87s 10s/step\n"
     ]
    }
   ],
   "source": [
    "# Confusion matrix\n",
    "y_pred = model.predict(test_gen)\n",
    "y_pred_classes = np.argmax(y_pred, axis=1)\n",
    "true_classes = test_gen.classes\n",
    "class_labels = list(test_gen.class_indices.keys())\n",
    "cm = confusion_matrix(true_classes, y_pred_classes)"
   ]
  },
  {
   "cell_type": "code",
   "execution_count": 15,
   "id": "ee87793e",
   "metadata": {
    "scrolled": true
   },
   "outputs": [
    {
     "data": {
      "image/png": "[encoded data removed]",
      "text/plain": [
       "<Figure size 800x800 with 2 Axes>"
      ]
     },
     "metadata": {},
     "output_type": "display_data"
    }
   ],
   "source": [
    "# Plot confusion matrix\n",
    "plt.figure(figsize=(8, 8))\n",
    "sns.heatmap(cm, annot=True, fmt='d', cmap='Blues', xticklabels=class_labels, yticklabels=class_labels)\n",
    "plt.xlabel('Predicted')\n",
    "plt.ylabel('Actual')\n",
    "plt.title('Confusion Matrix')\n",
    "plt.show()"
   ]
  },
  {
   "cell_type": "code",
   "execution_count": 16,
   "id": "6f456364",
   "metadata": {},
   "outputs": [
    {
     "name": "stdout",
     "output_type": "stream",
     "text": [
      "              precision    recall  f1-score   support\n",
      "\n",
      " oral_normal       0.84      0.94      0.89       507\n",
      "    oral_scc       0.94      0.82      0.88       494\n",
      "\n",
      "    accuracy                           0.88      1001\n",
      "   macro avg       0.89      0.88      0.88      1001\n",
      "weighted avg       0.89      0.88      0.88      1001\n",
      "\n"
     ]
    }
   ],
   "source": [
    "# Classification report\n",
    "print(classification_report(true_classes, y_pred_classes, target_names=class_labels))\n"
   ]
  },
  {
   "cell_type": "code",
   "execution_count": null,
   "id": "4f13f204",
   "metadata": {},
   "outputs": [],
   "source": [
    "!pip install pyyaml h5py "
   ]
  },
  {
   "cell_type": "code",
   "execution_count": 17,
   "id": "f75f8fa8",
   "metadata": {},
   "outputs": [],
   "source": [
    "model.save(r'C:/Users/nani1/OneDrive/Desktop/Densenet 201/densenet201_10.h5')\n",
    "model1 = tf.keras.models.load_model(r'C:/Users/nani1/OneDrive/Desktop/Densenet 201/Densenet201_10.h5')"
   ]
  },
  {
   "cell_type": "code",
   "execution_count": null,
   "id": "161ea20e",
   "metadata": {},
   "outputs": [],
   "source": []
  }
 ],
 "metadata": {
  "kernelspec": {
   "display_name": "Python 3 (ipykernel)",
   "language": "python",
   "name": "python3"
  },
  "language_info": {
   "codemirror_mode": {
    "name": "ipython",
    "version": 3
   },
   "file_extension": ".py",
   "mimetype": "text/x-python",
   "name": "python",
   "nbconvert_exporter": "python",
   "pygments_lexer": "ipython3",
   "version": "3.9.13"
  }
 },
 "nbformat": 4,
 "nbformat_minor": 5
}
