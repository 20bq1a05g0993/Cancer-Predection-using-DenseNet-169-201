{
 "cells": [
  {
   "cell_type": "code",
   "execution_count": 1,
   "id": "d59072b1",
   "metadata": {},
   "outputs": [],
   "source": [
    "# Importing necessary libraries\n",
    "import os\n",
    "import numpy as np\n",
    "import pandas as pd\n",
    "import matplotlib.pyplot as plt\n",
    "import seaborn as sns\n",
    "from sklearn.model_selection import train_test_split\n",
    "from sklearn.metrics import confusion_matrix, classification_report\n",
    "import tensorflow as tf\n",
    "from tensorflow.keras.models import Sequential\n",
    "from tensorflow.keras.layers import Dense, GlobalAveragePooling2D, Dropout,BatchNormalization\n",
    "from tensorflow.keras.applications import DenseNet201\n",
    "from tensorflow.keras.preprocessing.image import ImageDataGenerator\n",
    "\n",
    "# Ignore Warnings\n",
    "import warnings\n",
    "warnings.filterwarnings(\"ignore\")"
   ]
  },
  {
   "cell_type": "code",
   "execution_count": 2,
   "id": "b8e1a96f",
   "metadata": {},
   "outputs": [],
   "source": [
    "# Load and preprocess data\n",
    "data_dir = \"C:/Users/nani1/OneDrive/Desktop/oral cancer dataset/Oral Cancer\"\n",
    "labels = os.listdir(data_dir)\n",
    "filepaths = []\n",
    "for label in labels:\n",
    "    folder_path = os.path.join(data_dir, label)\n",
    "    filepaths.extend([os.path.join(folder_path, file) for file in os.listdir(folder_path)])"
   ]
  },
  {
   "cell_type": "code",
   "execution_count": 3,
   "id": "4d90bc69",
   "metadata": {},
   "outputs": [],
   "source": [
    "# Create DataFrame\n",
    "df = pd.DataFrame({\"filepaths\": filepaths, \"labels\": [os.path.basename(os.path.dirname(path)) for path in filepaths]})"
   ]
  },
  {
   "cell_type": "code",
   "execution_count": 4,
   "id": "e05b3d3f",
   "metadata": {},
   "outputs": [],
   "source": [
    "# Train-test split\n",
    "train_df, test_df = train_test_split(df, train_size=0.7, shuffle=True, random_state=123)\n",
    "valid_df, test_df = train_test_split(test_df, test_size=1/3, shuffle=True, random_state=123)\n"
   ]
  },
  {
   "cell_type": "code",
   "execution_count": 5,
   "id": "f600a76a",
   "metadata": {},
   "outputs": [],
   "source": [
    "# Image parameters\n",
    "batch_size = 128\n",
    "img_size = (224, 224)\n"
   ]
  },
  {
   "cell_type": "code",
   "execution_count": 7,
   "id": "e02fb5dd",
   "metadata": {},
   "outputs": [
    {
     "name": "stdout",
     "output_type": "stream",
     "text": [
      "Found 7001 validated image filenames belonging to 2 classes.\n",
      "Found 2000 validated image filenames belonging to 2 classes.\n",
      "Found 1001 validated image filenames belonging to 2 classes.\n"
     ]
    }
   ],
   "source": [
    "# Data Generators\n",
    "datagen = ImageDataGenerator(rescale=1./255,\n",
    "                             rotation_range=20,\n",
    "                             width_shift_range=0.2,\n",
    "                             height_shift_range=0.2,\n",
    "                             shear_range=0.2,\n",
    "                             zoom_range=0.2,\n",
    "                             horizontal_flip=True,\n",
    "                             fill_mode='nearest')\n",
    "train_gen = datagen.flow_from_dataframe(\n",
    "    train_df,\n",
    "    x_col='filepaths',\n",
    "    y_col='labels',\n",
    "    target_size=img_size,\n",
    "    batch_size=batch_size,\n",
    "    class_mode='categorical',\n",
    "    shuffle=True\n",
    ")\n",
    "valid_gen = datagen.flow_from_dataframe(\n",
    "    valid_df,\n",
    "    x_col='filepaths',\n",
    "    y_col='labels',\n",
    "    target_size=img_size,\n",
    "    batch_size=batch_size,\n",
    "    class_mode='categorical',\n",
    "    shuffle=False\n",
    ")\n",
    "test_gen = datagen.flow_from_dataframe(\n",
    "    test_df,\n",
    "    x_col='filepaths',\n",
    "    y_col='labels',\n",
    "    target_size=img_size,\n",
    "    batch_size=batch_size,\n",
    "    class_mode='categorical',\n",
    "    shuffle=False\n",
    ")\n"
   ]
  },
  {
   "cell_type": "code",
   "execution_count": 8,
   "id": "69fbfcc2",
   "metadata": {},
   "outputs": [],
   "source": [
    "# Base model\n",
    "base_model = DenseNet201(weights='imagenet', include_top=False, input_shape=(img_size[0], img_size[1], 3))\n",
    "for layer in base_model.layers:\n",
    "    layer.trainable = False"
   ]
  },
  {
   "cell_type": "code",
   "execution_count": 9,
   "id": "4cf8e539",
   "metadata": {},
   "outputs": [],
   "source": [
    "# Custom head\n",
    "model = Sequential([\n",
    "    base_model,\n",
    "    GlobalAveragePooling2D(),\n",
    "    Dense(128, activation='relu'),\n",
    "    BatchNormalization(),\n",
    "    Dropout(0.36),\n",
    "    Dense(128, activation='relu'),\n",
    "    BatchNormalization(),\n",
    "    Dropout(0.36),\n",
    "    Dense(len(labels), activation='softmax')\n",
    "])"
   ]
  },
  {
   "cell_type": "code",
   "execution_count": 10,
   "id": "ce98df5f",
   "metadata": {},
   "outputs": [],
   "source": [
    "# Compile the model\n",
    "model.compile(optimizer='adam',\n",
    "              loss='categorical_crossentropy',\n",
    "              metrics=['accuracy'])\n"
   ]
  },
  {
   "cell_type": "code",
   "execution_count": 11,
   "id": "92c87793",
   "metadata": {},
   "outputs": [
    {
     "name": "stdout",
     "output_type": "stream",
     "text": [
      "Model: \"sequential\"\n",
      "_________________________________________________________________\n",
      " Layer (type)                Output Shape              Param #   \n",
      "=================================================================\n",
      " densenet201 (Functional)    (None, 7, 7, 1920)        18321984  \n",
      "                                                                 \n",
      " global_average_pooling2d (  (None, 1920)              0         \n",
      " GlobalAveragePooling2D)                                         \n",
      "                                                                 \n",
      " dense (Dense)               (None, 128)               245888    \n",
      "                                                                 \n",
      " batch_normalization (Batch  (None, 128)               512       \n",
      " Normalization)                                                  \n",
      "                                                                 \n",
      " dropout (Dropout)           (None, 128)               0         \n",
      "                                                                 \n",
      " dense_1 (Dense)             (None, 128)               16512     \n",
      "                                                                 \n",
      " batch_normalization_1 (Bat  (None, 128)               512       \n",
      " chNormalization)                                                \n",
      "                                                                 \n",
      " dropout_1 (Dropout)         (None, 128)               0         \n",
      "                                                                 \n",
      " dense_2 (Dense)             (None, 2)                 258       \n",
      "                                                                 \n",
      "=================================================================\n",
      "Total params: 18585666 (70.90 MB)\n",
      "Trainable params: 263170 (1.00 MB)\n",
      "Non-trainable params: 18322496 (69.89 MB)\n",
      "_________________________________________________________________\n"
     ]
    }
   ],
   "source": [
    "# Model Summary\n",
    "model.summary()"
   ]
  },
  {
   "cell_type": "code",
   "execution_count": 12,
   "id": "0785e645",
   "metadata": {},
   "outputs": [
    {
     "name": "stdout",
     "output_type": "stream",
     "text": [
      "Epoch 1/5\n",
      "55/55 [==============================] - 839s 15s/step - loss: 0.7510 - accuracy: 0.6723 - val_loss: 0.4956 - val_accuracy: 0.7565\n",
      "Epoch 2/5\n",
      "55/55 [==============================] - 777s 14s/step - loss: 0.5263 - accuracy: 0.7622 - val_loss: 0.4236 - val_accuracy: 0.8035\n",
      "Epoch 3/5\n",
      "55/55 [==============================] - 819s 15s/step - loss: 0.4523 - accuracy: 0.7936 - val_loss: 0.3513 - val_accuracy: 0.8525\n",
      "Epoch 4/5\n",
      "55/55 [==============================] - 827s 15s/step - loss: 0.4000 - accuracy: 0.8192 - val_loss: 0.3470 - val_accuracy: 0.8450\n",
      "Epoch 5/5\n",
      "55/55 [==============================] - 753s 14s/step - loss: 0.3669 - accuracy: 0.8379 - val_loss: 0.3120 - val_accuracy: 0.8625\n"
     ]
    }
   ],
   "source": [
    "# Train the model\n",
    "history = model.fit(train_gen,\n",
    "                    epochs=5,\n",
    "                    validation_data=valid_gen)"
   ]
  },
  {
   "cell_type": "code",
   "execution_count": 13,
   "id": "4e3cf1ba",
   "metadata": {},
   "outputs": [
    {
     "name": "stdout",
     "output_type": "stream",
     "text": [
      "8/8 [==============================] - 90s 11s/step - loss: 0.3038 - accuracy: 0.8711\n",
      "Test Loss: 0.3038303256034851\n",
      "Test Accuracy: 0.8711288571357727\n"
     ]
    }
   ],
   "source": [
    "# Evaluate the model\n",
    "test_loss, test_acc = model.evaluate(test_gen)\n",
    "print(\"Test Loss:\", test_loss)\n",
    "print(\"Test Accuracy:\", test_acc)"
   ]
  },
  {
   "cell_type": "code",
   "execution_count": 14,
   "id": "66c84950",
   "metadata": {},
   "outputs": [
    {
     "name": "stdout",
     "output_type": "stream",
     "text": [
      "8/8 [==============================] - 88s 10s/step\n"
     ]
    }
   ],
   "source": [
    "# Confusion matrix\n",
    "y_pred = model.predict(test_gen)\n",
    "y_pred_classes = np.argmax(y_pred, axis=1)\n",
    "true_classes = test_gen.classes\n",
    "class_labels = list(test_gen.class_indices.keys())\n",
    "cm = confusion_matrix(true_classes, y_pred_classes)"
   ]
  },
  {
   "cell_type": "code",
   "execution_count": 15,
   "id": "e9d216e6",
   "metadata": {},
   "outputs": [
    {
     "data": {
      "image/png": "[encoded data removed]",
      "text/plain": [
       "<Figure size 800x800 with 2 Axes>"
      ]
     },
     "metadata": {},
     "output_type": "display_data"
    }
   ],
   "source": [
    "# Plot confusion matrix\n",
    "plt.figure(figsize=(8, 8))\n",
    "sns.heatmap(cm, annot=True, fmt='d', cmap='Blues', xticklabels=class_labels, yticklabels=class_labels)\n",
    "plt.xlabel('Predicted')\n",
    "plt.ylabel('Actual')\n",
    "plt.title('Confusion Matrix')\n",
    "plt.show()"
   ]
  },
  {
   "cell_type": "code",
   "execution_count": 16,
   "id": "02288454",
   "metadata": {},
   "outputs": [
    {
     "name": "stdout",
     "output_type": "stream",
     "text": [
      "              precision    recall  f1-score   support\n",
      "\n",
      " oral_normal       0.92      0.83      0.87       507\n",
      "    oral_scc       0.84      0.92      0.88       494\n",
      "\n",
      "    accuracy                           0.88      1001\n",
      "   macro avg       0.88      0.88      0.87      1001\n",
      "weighted avg       0.88      0.88      0.87      1001\n",
      "\n"
     ]
    }
   ],
   "source": [
    "# Classification report\n",
    "print(classification_report(true_classes, y_pred_classes, target_names=class_labels))\n"
   ]
  },
  {
   "cell_type": "code",
   "execution_count": 17,
   "id": "47ad6e39",
   "metadata": {},
   "outputs": [],
   "source": [
    "model.save(r'C:/Users/nani1/OneDrive/Desktop/Densenet 201/5 epochs/densenet201_5.h5')\n",
    "model1 = tf.keras.models.load_model(r'C:/Users/nani1/OneDrive/Desktop/Densenet 201/5 epochs/Densenet201_5.h5')"
   ]
  },
  {
   "cell_type": "code",
   "execution_count": null,
   "id": "4016f825",
   "metadata": {},
   "outputs": [],
   "source": []
  }
 ],
 "metadata": {
  "kernelspec": {
   "display_name": "Python 3 (ipykernel)",
   "language": "python",
   "name": "python3"
  },
  "language_info": {
   "codemirror_mode": {
    "name": "ipython",
    "version": 3
   },
   "file_extension": ".py",
   "mimetype": "text/x-python",
   "name": "python",
   "nbconvert_exporter": "python",
   "pygments_lexer": "ipython3",
   "version": "3.9.13"
  }
 },
 "nbformat": 4,
 "nbformat_minor": 5
}
