{
 "cells": [
  {
   "cell_type": "code",
   "execution_count": 8,
   "id": "2540092f",
   "metadata": {},
   "outputs": [],
   "source": [
    "# Importing necessary libraries\n",
    "import os\n",
    "import numpy as np\n",
    "import pandas as pd\n",
    "import matplotlib.pyplot as plt\n",
    "import seaborn as sns\n",
    "from sklearn.model_selection import train_test_split\n",
    "from sklearn.metrics import confusion_matrix, classification_report\n",
    "import tensorflow as tf\n",
    "from tensorflow.keras.models import Sequential\n",
    "from tensorflow.keras.layers import Dense, GlobalAveragePooling2D, Dropout,BatchNormalization\n",
    "from tensorflow.keras.applications import DenseNet169\n",
    "from tensorflow.keras.preprocessing.image import ImageDataGenerator\n",
    "\n",
    "# Ignore Warnings\n",
    "import warnings\n",
    "warnings.filterwarnings(\"ignore\")"
   ]
  },
  {
   "cell_type": "code",
   "execution_count": 9,
   "id": "a4928710",
   "metadata": {},
   "outputs": [],
   "source": [
    "# Load and preprocess data\n",
    "data_dir = \"C:/Users/nani1/OneDrive/Desktop/oral cancer dataset/Oral Cancer\"\n",
    "labels = os.listdir(data_dir)\n",
    "filepaths = []\n",
    "for label in labels:\n",
    "    folder_path = os.path.join(data_dir, label)\n",
    "    filepaths.extend([os.path.join(folder_path, file) for file in os.listdir(folder_path)])"
   ]
  },
  {
   "cell_type": "code",
   "execution_count": 10,
   "id": "2bcead0c",
   "metadata": {},
   "outputs": [],
   "source": [
    "# Create DataFrame\n",
    "df = pd.DataFrame({\"filepaths\": filepaths, \"labels\": [os.path.basename(os.path.dirname(path)) for path in filepaths]})"
   ]
  },
  {
   "cell_type": "code",
   "execution_count": 11,
   "id": "241170f3",
   "metadata": {},
   "outputs": [],
   "source": [
    "# Train-test split\n",
    "train_df, test_df = train_test_split(df, train_size=0.7, shuffle=True, random_state=123)\n",
    "valid_df, test_df = train_test_split(test_df, test_size=1/3, shuffle=True, random_state=123)\n"
   ]
  },
  {
   "cell_type": "code",
   "execution_count": 12,
   "id": "a0a4ea15",
   "metadata": {},
   "outputs": [],
   "source": [
    "# Image parameters\n",
    "batch_size = 128\n",
    "img_size = (224, 224)\n"
   ]
  },
  {
   "cell_type": "code",
   "execution_count": 13,
   "id": "aa595312",
   "metadata": {},
   "outputs": [
    {
     "name": "stdout",
     "output_type": "stream",
     "text": [
      "Found 7001 validated image filenames belonging to 2 classes.\n",
      "Found 2000 validated image filenames belonging to 2 classes.\n",
      "Found 1001 validated image filenames belonging to 2 classes.\n"
     ]
    }
   ],
   "source": [
    "# Data Generators\n",
    "datagen = ImageDataGenerator(rescale=1./255,\n",
    "                             rotation_range=20,\n",
    "                             width_shift_range=0.2,\n",
    "                             height_shift_range=0.2,\n",
    "                             shear_range=0.2,\n",
    "                             zoom_range=0.2,\n",
    "                             horizontal_flip=True,\n",
    "                             fill_mode='nearest')\n",
    "train_gen = datagen.flow_from_dataframe(\n",
    "    train_df,\n",
    "    x_col='filepaths',\n",
    "    y_col='labels',\n",
    "    target_size=img_size,\n",
    "    batch_size=batch_size,\n",
    "    class_mode='categorical',\n",
    "    shuffle=True\n",
    ")\n",
    "valid_gen = datagen.flow_from_dataframe(\n",
    "    valid_df,\n",
    "    x_col='filepaths',\n",
    "    y_col='labels',\n",
    "    target_size=img_size,\n",
    "    batch_size=batch_size,\n",
    "    class_mode='categorical',\n",
    "    shuffle=False\n",
    ")\n",
    "test_gen = datagen.flow_from_dataframe(\n",
    "    test_df,\n",
    "    x_col='filepaths',\n",
    "    y_col='labels',\n",
    "    target_size=img_size,\n",
    "    batch_size=batch_size,\n",
    "    class_mode='categorical',\n",
    "    shuffle=False\n",
    ")\n"
   ]
  },
  {
   "cell_type": "code",
   "execution_count": 14,
   "id": "cc242cb2",
   "metadata": {},
   "outputs": [],
   "source": [
    "# Base model\n",
    "base_model = DenseNet169(weights='imagenet', include_top=False, input_shape=(img_size[0], img_size[1], 3))\n",
    "for layer in base_model.layers:\n",
    "    layer.trainable = False"
   ]
  },
  {
   "cell_type": "code",
   "execution_count": 15,
   "id": "e423a708",
   "metadata": {},
   "outputs": [],
   "source": [
    "# Custom head\n",
    "model = Sequential([\n",
    "    base_model,\n",
    "    GlobalAveragePooling2D(),\n",
    "    Dense(128, activation='relu'),\n",
    "    BatchNormalization(),\n",
    "    Dropout(0.36),\n",
    "    Dense(128, activation='relu'),\n",
    "    BatchNormalization(),\n",
    "    Dropout(0.36),\n",
    "    Dense(len(labels), activation='softmax')\n",
    "])"
   ]
  },
  {
   "cell_type": "code",
   "execution_count": 16,
   "id": "e91bf2f0",
   "metadata": {},
   "outputs": [],
   "source": [
    "# Compile the model\n",
    "model.compile(optimizer='adam',\n",
    "              loss='categorical_crossentropy',\n",
    "              metrics=['accuracy'])\n"
   ]
  },
  {
   "cell_type": "code",
   "execution_count": 17,
   "id": "fcec42ee",
   "metadata": {},
   "outputs": [
    {
     "name": "stdout",
     "output_type": "stream",
     "text": [
      "Model: \"sequential\"\n",
      "_________________________________________________________________\n",
      " Layer (type)                Output Shape              Param #   \n",
      "=================================================================\n",
      " densenet169 (Functional)    (None, 7, 7, 1664)        12642880  \n",
      "                                                                 \n",
      " global_average_pooling2d (  (None, 1664)              0         \n",
      " GlobalAveragePooling2D)                                         \n",
      "                                                                 \n",
      " dense (Dense)               (None, 128)               213120    \n",
      "                                                                 \n",
      " batch_normalization (Batch  (None, 128)               512       \n",
      " Normalization)                                                  \n",
      "                                                                 \n",
      " dropout (Dropout)           (None, 128)               0         \n",
      "                                                                 \n",
      " dense_1 (Dense)             (None, 128)               16512     \n",
      "                                                                 \n",
      " batch_normalization_1 (Bat  (None, 128)               512       \n",
      " chNormalization)                                                \n",
      "                                                                 \n",
      " dropout_1 (Dropout)         (None, 128)               0         \n",
      "                                                                 \n",
      " dense_2 (Dense)             (None, 2)                 258       \n",
      "                                                                 \n",
      "=================================================================\n",
      "Total params: 12873794 (49.11 MB)\n",
      "Trainable params: 230402 (900.01 KB)\n",
      "Non-trainable params: 12643392 (48.23 MB)\n",
      "_________________________________________________________________\n"
     ]
    }
   ],
   "source": [
    "# Model Summary\n",
    "model.summary()"
   ]
  },
  {
   "cell_type": "code",
   "execution_count": 18,
   "id": "9d1a11b0",
   "metadata": {},
   "outputs": [
    {
     "name": "stdout",
     "output_type": "stream",
     "text": [
      "Epoch 1/5\n",
      "55/55 [==============================] - 639s 11s/step - loss: 0.6611 - accuracy: 0.6995 - val_loss: 0.5480 - val_accuracy: 0.7055\n",
      "Epoch 2/5\n",
      "55/55 [==============================] - 694s 13s/step - loss: 0.4864 - accuracy: 0.7786 - val_loss: 0.4203 - val_accuracy: 0.7980\n",
      "Epoch 3/5\n",
      "55/55 [==============================] - 639s 12s/step - loss: 0.4187 - accuracy: 0.8123 - val_loss: 0.3825 - val_accuracy: 0.8265\n",
      "Epoch 4/5\n",
      "55/55 [==============================] - 643s 12s/step - loss: 0.3987 - accuracy: 0.8167 - val_loss: 0.3611 - val_accuracy: 0.8390\n",
      "Epoch 5/5\n",
      "55/55 [==============================] - 634s 12s/step - loss: 0.3634 - accuracy: 0.8379 - val_loss: 0.3270 - val_accuracy: 0.8520\n"
     ]
    }
   ],
   "source": [
    "# Train the model\n",
    "history = model.fit(train_gen,\n",
    "                    epochs=5,\n",
    "                    validation_data=valid_gen)"
   ]
  },
  {
   "cell_type": "code",
   "execution_count": 19,
   "id": "484a6442",
   "metadata": {},
   "outputs": [
    {
     "name": "stdout",
     "output_type": "stream",
     "text": [
      "8/8 [==============================] - 71s 9s/step - loss: 0.3077 - accuracy: 0.8561\n",
      "Test Loss: 0.30772343277931213\n",
      "Test Accuracy: 0.8561438322067261\n"
     ]
    }
   ],
   "source": [
    "# Evaluate the model\n",
    "test_loss, test_acc = model.evaluate(test_gen)\n",
    "print(\"Test Loss:\", test_loss)\n",
    "print(\"Test Accuracy:\", test_acc)"
   ]
  },
  {
   "cell_type": "code",
   "execution_count": 20,
   "id": "7d664931",
   "metadata": {},
   "outputs": [
    {
     "name": "stdout",
     "output_type": "stream",
     "text": [
      "8/8 [==============================] - 74s 9s/step\n"
     ]
    }
   ],
   "source": [
    "# Confusion matrix\n",
    "y_pred = model.predict(test_gen)\n",
    "y_pred_classes = np.argmax(y_pred, axis=1)\n",
    "true_classes = test_gen.classes\n",
    "class_labels = list(test_gen.class_indices.keys())\n",
    "cm = confusion_matrix(true_classes, y_pred_classes)"
   ]
  },
  {
   "cell_type": "code",
   "execution_count": 21,
   "id": "69c12aa9",
   "metadata": {},
   "outputs": [
    {
     "data": {
      "image/png": "[encoded data removed]",
      "text/plain": [
       "<Figure size 800x800 with 2 Axes>"
      ]
     },
     "metadata": {},
     "output_type": "display_data"
    }
   ],
   "source": [
    "# Plot confusion matrix\n",
    "plt.figure(figsize=(8, 8))\n",
    "sns.heatmap(cm, annot=True, fmt='d', cmap='Blues', xticklabels=class_labels, yticklabels=class_labels)\n",
    "plt.xlabel('Predicted')\n",
    "plt.ylabel('Actual')\n",
    "plt.title('Confusion Matrix')\n",
    "plt.show()"
   ]
  },
  {
   "cell_type": "code",
   "execution_count": 22,
   "id": "9957a904",
   "metadata": {},
   "outputs": [
    {
     "name": "stdout",
     "output_type": "stream",
     "text": [
      "              precision    recall  f1-score   support\n",
      "\n",
      " oral_normal       0.91      0.83      0.87       507\n",
      "    oral_scc       0.84      0.92      0.88       494\n",
      "\n",
      "    accuracy                           0.88      1001\n",
      "   macro avg       0.88      0.88      0.88      1001\n",
      "weighted avg       0.88      0.88      0.87      1001\n",
      "\n"
     ]
    }
   ],
   "source": [
    "# Classification report\n",
    "print(classification_report(true_classes, y_pred_classes, target_names=class_labels))\n"
   ]
  },
  {
   "cell_type": "code",
   "execution_count": 25,
   "id": "c2c68590",
   "metadata": {},
   "outputs": [],
   "source": [
    "model.save('C:/Users/nani1/OneDrive/Desktop/Densenet169/5 epochs/Densenet169_5.h5')\n",
    "model1 = tf.keras.models.load_model('C:/Users/nani1/OneDrive/Desktop/Densenet169/5 epochs/Densenet169_5.h5')"
   ]
  },
  {
   "cell_type": "code",
   "execution_count": null,
   "id": "c7a687bf",
   "metadata": {},
   "outputs": [],
   "source": []
  }
 ],
 "metadata": {
  "kernelspec": {
   "display_name": "Python 3 (ipykernel)",
   "language": "python",
   "name": "python3"
  },
  "language_info": {
   "codemirror_mode": {
    "name": "ipython",
    "version": 3
   },
   "file_extension": ".py",
   "mimetype": "text/x-python",
   "name": "python",
   "nbconvert_exporter": "python",
   "pygments_lexer": "ipython3",
   "version": "3.9.13"
  }
 },
 "nbformat": 4,
 "nbformat_minor": 5
}
