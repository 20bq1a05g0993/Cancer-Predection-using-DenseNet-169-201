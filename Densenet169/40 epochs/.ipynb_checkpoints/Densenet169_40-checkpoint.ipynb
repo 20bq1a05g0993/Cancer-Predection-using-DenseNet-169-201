{
 "cells": [
  {
   "cell_type": "code",
   "execution_count": 1,
   "id": "9a96ed37",
   "metadata": {},
   "outputs": [],
   "source": [
    "# Importing necessary libraries\n",
    "import os\n",
    "import numpy as np\n",
    "import pandas as pd\n",
    "import matplotlib.pyplot as plt\n",
    "import seaborn as sns\n",
    "from sklearn.model_selection import train_test_split\n",
    "from sklearn.metrics import confusion_matrix, classification_report\n",
    "import tensorflow as tf\n",
    "from tensorflow.keras.models import Sequential\n",
    "from tensorflow.keras.layers import Dense, GlobalAveragePooling2D, Dropout,BatchNormalization\n",
    "from tensorflow.keras.applications import DenseNet169\n",
    "from tensorflow.keras.preprocessing.image import ImageDataGenerator\n",
    "\n",
    "# Ignore Warnings\n",
    "import warnings\n",
    "warnings.filterwarnings(\"ignore\")"
   ]
  },
  {
   "cell_type": "code",
   "execution_count": 2,
   "id": "a195f076",
   "metadata": {},
   "outputs": [],
   "source": [
    "# Load and preprocess data\n",
    "data_dir = \"C:/Users/nani1/OneDrive/Desktop/oral cancer dataset/Oral Cancer\"\n",
    "labels = os.listdir(data_dir)\n",
    "filepaths = []\n",
    "for label in labels:\n",
    "    folder_path = os.path.join(data_dir, label)\n",
    "    filepaths.extend([os.path.join(folder_path, file) for file in os.listdir(folder_path)])"
   ]
  },
  {
   "cell_type": "code",
   "execution_count": 3,
   "id": "f5497824",
   "metadata": {},
   "outputs": [],
   "source": [
    "# Create DataFrame\n",
    "df = pd.DataFrame({\"filepaths\": filepaths, \"labels\": [os.path.basename(os.path.dirname(path)) for path in filepaths]})"
   ]
  },
  {
   "cell_type": "code",
   "execution_count": 4,
   "id": "23db723d",
   "metadata": {},
   "outputs": [],
   "source": [
    "# Train-test split\n",
    "train_df, test_df = train_test_split(df, train_size=0.7, shuffle=True, random_state=123)\n",
    "valid_df, test_df = train_test_split(test_df, test_size=1/3, shuffle=True, random_state=123)\n"
   ]
  },
  {
   "cell_type": "code",
   "execution_count": 5,
   "id": "2ae53fab",
   "metadata": {},
   "outputs": [],
   "source": [
    "# Image parameters\n",
    "batch_size = 128\n",
    "img_size = (224, 224)\n"
   ]
  },
  {
   "cell_type": "code",
   "execution_count": 6,
   "id": "47bcce01",
   "metadata": {},
   "outputs": [
    {
     "name": "stdout",
     "output_type": "stream",
     "text": [
      "Found 7001 validated image filenames belonging to 2 classes.\n",
      "Found 2000 validated image filenames belonging to 2 classes.\n",
      "Found 1001 validated image filenames belonging to 2 classes.\n"
     ]
    }
   ],
   "source": [
    "# Data Generators\n",
    "datagen = ImageDataGenerator(rescale=1./255,\n",
    "                             rotation_range=20,\n",
    "                             width_shift_range=0.2,\n",
    "                             height_shift_range=0.2,\n",
    "                             shear_range=0.2,\n",
    "                             zoom_range=0.2,\n",
    "                             horizontal_flip=True,\n",
    "                             fill_mode='nearest')\n",
    "train_gen = datagen.flow_from_dataframe(\n",
    "    train_df,\n",
    "    x_col='filepaths',\n",
    "    y_col='labels',\n",
    "    target_size=img_size,\n",
    "    batch_size=batch_size,\n",
    "    class_mode='categorical',\n",
    "    shuffle=True\n",
    ")\n",
    "valid_gen = datagen.flow_from_dataframe(\n",
    "    valid_df,\n",
    "    x_col='filepaths',\n",
    "    y_col='labels',\n",
    "    target_size=img_size,\n",
    "    batch_size=batch_size,\n",
    "    class_mode='categorical',\n",
    "    shuffle=False\n",
    ")\n",
    "test_gen = datagen.flow_from_dataframe(\n",
    "    test_df,\n",
    "    x_col='filepaths',\n",
    "    y_col='labels',\n",
    "    target_size=img_size,\n",
    "    batch_size=batch_size,\n",
    "    class_mode='categorical',\n",
    "    shuffle=False\n",
    ")\n"
   ]
  },
  {
   "cell_type": "code",
   "execution_count": 7,
   "id": "3bbb53cd",
   "metadata": {},
   "outputs": [],
   "source": [
    "# Base model\n",
    "base_model = DenseNet169(weights='imagenet', include_top=False, input_shape=(img_size[0], img_size[1], 3))\n",
    "for layer in base_model.layers:\n",
    "    layer.trainable = False"
   ]
  },
  {
   "cell_type": "code",
   "execution_count": 8,
   "id": "88658bb8",
   "metadata": {},
   "outputs": [],
   "source": [
    "# Custom head\n",
    "model = Sequential([\n",
    "    base_model,\n",
    "    GlobalAveragePooling2D(),\n",
    "    Dense(128, activation='relu'),\n",
    "    BatchNormalization(),\n",
    "    Dropout(0.36),\n",
    "    Dense(128, activation='relu'),\n",
    "    BatchNormalization(),\n",
    "    Dropout(0.36),\n",
    "    Dense(len(labels), activation='softmax')\n",
    "])"
   ]
  },
  {
   "cell_type": "code",
   "execution_count": 9,
   "id": "5701c6d5",
   "metadata": {},
   "outputs": [],
   "source": [
    "# Compile the model\n",
    "model.compile(optimizer='adam',\n",
    "              loss='categorical_crossentropy',\n",
    "              metrics=['accuracy'])\n"
   ]
  },
  {
   "cell_type": "code",
   "execution_count": 10,
   "id": "24c26898",
   "metadata": {},
   "outputs": [
    {
     "name": "stdout",
     "output_type": "stream",
     "text": [
      "Model: \"sequential\"\n",
      "_________________________________________________________________\n",
      " Layer (type)                Output Shape              Param #   \n",
      "=================================================================\n",
      " densenet169 (Functional)    (None, 7, 7, 1664)        12642880  \n",
      "                                                                 \n",
      " global_average_pooling2d (  (None, 1664)              0         \n",
      " GlobalAveragePooling2D)                                         \n",
      "                                                                 \n",
      " dense (Dense)               (None, 128)               213120    \n",
      "                                                                 \n",
      " batch_normalization (Batch  (None, 128)               512       \n",
      " Normalization)                                                  \n",
      "                                                                 \n",
      " dropout (Dropout)           (None, 128)               0         \n",
      "                                                                 \n",
      " dense_1 (Dense)             (None, 128)               16512     \n",
      "                                                                 \n",
      " batch_normalization_1 (Bat  (None, 128)               512       \n",
      " chNormalization)                                                \n",
      "                                                                 \n",
      " dropout_1 (Dropout)         (None, 128)               0         \n",
      "                                                                 \n",
      " dense_2 (Dense)             (None, 2)                 258       \n",
      "                                                                 \n",
      "=================================================================\n",
      "Total params: 12873794 (49.11 MB)\n",
      "Trainable params: 230402 (900.01 KB)\n",
      "Non-trainable params: 12643392 (48.23 MB)\n",
      "_________________________________________________________________\n"
     ]
    }
   ],
   "source": [
    "# Model Summary\n",
    "model.summary()"
   ]
  },
  {
   "cell_type": "code",
   "execution_count": 11,
   "id": "71c04353",
   "metadata": {},
   "outputs": [
    {
     "name": "stdout",
     "output_type": "stream",
     "text": [
      "Epoch 1/40\n",
      "55/55 [==============================] - 725s 13s/step - loss: 0.7360 - accuracy: 0.6765 - val_loss: 0.5608 - val_accuracy: 0.6855\n",
      "Epoch 2/40\n",
      "55/55 [==============================] - 682s 12s/step - loss: 0.5282 - accuracy: 0.7589 - val_loss: 0.4498 - val_accuracy: 0.7885\n",
      "Epoch 3/40\n",
      "55/55 [==============================] - 630s 11s/step - loss: 0.4464 - accuracy: 0.7957 - val_loss: 0.3917 - val_accuracy: 0.8255\n",
      "Epoch 4/40\n",
      "55/55 [==============================] - 612s 11s/step - loss: 0.4069 - accuracy: 0.8100 - val_loss: 0.3665 - val_accuracy: 0.8310\n",
      "Epoch 5/40\n",
      "55/55 [==============================] - 5045s 93s/step - loss: 0.3793 - accuracy: 0.8275 - val_loss: 0.3204 - val_accuracy: 0.8615\n",
      "Epoch 6/40\n",
      "55/55 [==============================] - 638s 12s/step - loss: 0.3621 - accuracy: 0.8393 - val_loss: 0.3108 - val_accuracy: 0.8630\n",
      "Epoch 7/40\n",
      "55/55 [==============================] - 650s 12s/step - loss: 0.3443 - accuracy: 0.8479 - val_loss: 0.3242 - val_accuracy: 0.8610\n",
      "Epoch 8/40\n",
      "55/55 [==============================] - 651s 12s/step - loss: 0.3182 - accuracy: 0.8610 - val_loss: 0.3345 - val_accuracy: 0.8540\n",
      "Epoch 9/40\n",
      "55/55 [==============================] - 633s 12s/step - loss: 0.3097 - accuracy: 0.8659 - val_loss: 0.2844 - val_accuracy: 0.8780\n",
      "Epoch 10/40\n",
      "55/55 [==============================] - 654s 12s/step - loss: 0.3059 - accuracy: 0.8692 - val_loss: 0.2583 - val_accuracy: 0.8945\n",
      "Epoch 11/40\n",
      "55/55 [==============================] - 661s 12s/step - loss: 0.2906 - accuracy: 0.8752 - val_loss: 0.2769 - val_accuracy: 0.8695\n",
      "Epoch 12/40\n",
      "55/55 [==============================] - 654s 12s/step - loss: 0.3048 - accuracy: 0.8686 - val_loss: 0.4236 - val_accuracy: 0.8140\n",
      "Epoch 13/40\n",
      "55/55 [==============================] - 659s 12s/step - loss: 0.2714 - accuracy: 0.8842 - val_loss: 0.3085 - val_accuracy: 0.8700\n",
      "Epoch 14/40\n",
      "55/55 [==============================] - 681s 12s/step - loss: 0.2785 - accuracy: 0.8792 - val_loss: 0.2808 - val_accuracy: 0.8795\n",
      "Epoch 15/40\n",
      "55/55 [==============================] - 638s 12s/step - loss: 0.2610 - accuracy: 0.8896 - val_loss: 0.2870 - val_accuracy: 0.8705\n",
      "Epoch 16/40\n",
      "55/55 [==============================] - 670s 12s/step - loss: 0.2595 - accuracy: 0.8887 - val_loss: 0.2771 - val_accuracy: 0.8765\n",
      "Epoch 17/40\n",
      "55/55 [==============================] - 650s 12s/step - loss: 0.2620 - accuracy: 0.8867 - val_loss: 0.2716 - val_accuracy: 0.8840\n",
      "Epoch 18/40\n",
      "55/55 [==============================] - 644s 12s/step - loss: 0.2532 - accuracy: 0.8957 - val_loss: 0.2992 - val_accuracy: 0.8710\n",
      "Epoch 19/40\n",
      "55/55 [==============================] - 638s 12s/step - loss: 0.2498 - accuracy: 0.8949 - val_loss: 0.2246 - val_accuracy: 0.8990\n",
      "Epoch 20/40\n",
      "55/55 [==============================] - 648s 12s/step - loss: 0.2498 - accuracy: 0.8934 - val_loss: 0.2318 - val_accuracy: 0.9010\n",
      "Epoch 21/40\n",
      "55/55 [==============================] - 654s 12s/step - loss: 0.2376 - accuracy: 0.8977 - val_loss: 0.2243 - val_accuracy: 0.9050\n",
      "Epoch 22/40\n",
      "55/55 [==============================] - 3064s 57s/step - loss: 0.2432 - accuracy: 0.8972 - val_loss: 0.2355 - val_accuracy: 0.9010\n",
      "Epoch 23/40\n",
      "55/55 [==============================] - 655s 12s/step - loss: 0.2210 - accuracy: 0.9063 - val_loss: 0.2164 - val_accuracy: 0.9045\n",
      "Epoch 24/40\n",
      "55/55 [==============================] - 639s 12s/step - loss: 0.2288 - accuracy: 0.9022 - val_loss: 0.2365 - val_accuracy: 0.8950\n",
      "Epoch 25/40\n",
      "55/55 [==============================] - 627s 11s/step - loss: 0.2243 - accuracy: 0.9106 - val_loss: 0.2113 - val_accuracy: 0.9015\n",
      "Epoch 26/40\n",
      "55/55 [==============================] - 648s 12s/step - loss: 0.2269 - accuracy: 0.9056 - val_loss: 0.2490 - val_accuracy: 0.8970\n",
      "Epoch 27/40\n",
      "55/55 [==============================] - 646s 12s/step - loss: 0.2238 - accuracy: 0.9036 - val_loss: 0.2686 - val_accuracy: 0.8840\n",
      "Epoch 28/40\n",
      "55/55 [==============================] - 638s 12s/step - loss: 0.2163 - accuracy: 0.9102 - val_loss: 0.2422 - val_accuracy: 0.9035\n",
      "Epoch 29/40\n",
      "55/55 [==============================] - 649s 12s/step - loss: 0.2156 - accuracy: 0.9119 - val_loss: 0.2553 - val_accuracy: 0.8870\n",
      "Epoch 30/40\n",
      "55/55 [==============================] - 640s 12s/step - loss: 0.2102 - accuracy: 0.9119 - val_loss: 0.1906 - val_accuracy: 0.9155\n",
      "Epoch 31/40\n",
      "55/55 [==============================] - 635s 12s/step - loss: 0.1987 - accuracy: 0.9162 - val_loss: 0.2076 - val_accuracy: 0.9095\n",
      "Epoch 32/40\n",
      "55/55 [==============================] - 623s 11s/step - loss: 0.2053 - accuracy: 0.9143 - val_loss: 0.2368 - val_accuracy: 0.8965\n",
      "Epoch 33/40\n",
      "55/55 [==============================] - 596s 11s/step - loss: 0.2149 - accuracy: 0.9150 - val_loss: 0.2129 - val_accuracy: 0.9020\n",
      "Epoch 34/40\n",
      "55/55 [==============================] - 594s 11s/step - loss: 0.2081 - accuracy: 0.9152 - val_loss: 0.1880 - val_accuracy: 0.9200\n",
      "Epoch 35/40\n",
      "55/55 [==============================] - 594s 11s/step - loss: 0.2059 - accuracy: 0.9167 - val_loss: 0.1983 - val_accuracy: 0.9190\n",
      "Epoch 36/40\n",
      "55/55 [==============================] - 594s 11s/step - loss: 0.2073 - accuracy: 0.9149 - val_loss: 0.2945 - val_accuracy: 0.8765\n",
      "Epoch 37/40\n",
      "55/55 [==============================] - 658s 12s/step - loss: 0.2016 - accuracy: 0.9177 - val_loss: 0.1898 - val_accuracy: 0.9220\n",
      "Epoch 38/40\n",
      "55/55 [==============================] - 651s 12s/step - loss: 0.1959 - accuracy: 0.9156 - val_loss: 0.1878 - val_accuracy: 0.9210\n",
      "Epoch 39/40\n",
      "55/55 [==============================] - 680s 12s/step - loss: 0.1959 - accuracy: 0.9182 - val_loss: 0.1787 - val_accuracy: 0.9275\n",
      "Epoch 40/40\n",
      "55/55 [==============================] - 645s 12s/step - loss: 0.1973 - accuracy: 0.9233 - val_loss: 0.2336 - val_accuracy: 0.9015\n"
     ]
    }
   ],
   "source": [
    "# Train the model\n",
    "history = model.fit(train_gen,\n",
    "                    epochs=40,\n",
    "                    validation_data=valid_gen)"
   ]
  },
  {
   "cell_type": "code",
   "execution_count": 12,
   "id": "587e3651",
   "metadata": {},
   "outputs": [
    {
     "name": "stdout",
     "output_type": "stream",
     "text": [
      "8/8 [==============================] - 74s 9s/step - loss: 0.2014 - accuracy: 0.9131\n",
      "Test Loss: 0.20141901075839996\n",
      "Test Accuracy: 0.9130868911743164\n"
     ]
    }
   ],
   "source": [
    "# Evaluate the model\n",
    "test_loss, test_acc = model.evaluate(test_gen)\n",
    "print(\"Test Loss:\", test_loss)\n",
    "print(\"Test Accuracy:\", test_acc)"
   ]
  },
  {
   "cell_type": "code",
   "execution_count": 13,
   "id": "959545ea",
   "metadata": {},
   "outputs": [
    {
     "name": "stdout",
     "output_type": "stream",
     "text": [
      "8/8 [==============================] - 76s 9s/step\n"
     ]
    }
   ],
   "source": [
    "# Confusion matrix\n",
    "y_pred = model.predict(test_gen)\n",
    "y_pred_classes = np.argmax(y_pred, axis=1)\n",
    "true_classes = test_gen.classes\n",
    "class_labels = list(test_gen.class_indices.keys())\n",
    "cm = confusion_matrix(true_classes, y_pred_classes)"
   ]
  },
  {
   "cell_type": "code",
   "execution_count": 14,
   "id": "bc556844",
   "metadata": {},
   "outputs": [
    {
     "data": {
      "image/png": "[encoded data removed]",
      "text/plain": [
       "<Figure size 800x800 with 2 Axes>"
      ]
     },
     "metadata": {},
     "output_type": "display_data"
    }
   ],
   "source": [
    "# Plot confusion matrix\n",
    "plt.figure(figsize=(8, 8))\n",
    "sns.heatmap(cm, annot=True, fmt='d', cmap='Blues', xticklabels=class_labels, yticklabels=class_labels)\n",
    "plt.xlabel('Predicted')\n",
    "plt.ylabel('Actual')\n",
    "plt.title('Confusion Matrix')\n",
    "plt.show()"
   ]
  },
  {
   "cell_type": "code",
   "execution_count": 15,
   "id": "ef655440",
   "metadata": {},
   "outputs": [
    {
     "name": "stdout",
     "output_type": "stream",
     "text": [
      "              precision    recall  f1-score   support\n",
      "\n",
      " oral_normal       0.90      0.97      0.93       507\n",
      "    oral_scc       0.96      0.89      0.92       494\n",
      "\n",
      "    accuracy                           0.93      1001\n",
      "   macro avg       0.93      0.93      0.93      1001\n",
      "weighted avg       0.93      0.93      0.93      1001\n",
      "\n"
     ]
    }
   ],
   "source": [
    "# Classification report\n",
    "print(classification_report(true_classes, y_pred_classes, target_names=class_labels))\n"
   ]
  },
  {
   "cell_type": "code",
   "execution_count": 16,
   "id": "d6ac76b0",
   "metadata": {},
   "outputs": [],
   "source": [
    "model.save('C:/Users/nani1/OneDrive/Desktop/Densenet169/40 epochs/Densenet169_40.h5')\n",
    "model1 = tf.keras.models.load_model('C:/Users/nani1/OneDrive/Desktop/Densenet169/40 epochs/Densenet169_40.h5')"
   ]
  },
  {
   "cell_type": "code",
   "execution_count": null,
   "id": "de63fd8b",
   "metadata": {},
   "outputs": [],
   "source": []
  }
 ],
 "metadata": {
  "kernelspec": {
   "display_name": "Python 3 (ipykernel)",
   "language": "python",
   "name": "python3"
  },
  "language_info": {
   "codemirror_mode": {
    "name": "ipython",
    "version": 3
   },
   "file_extension": ".py",
   "mimetype": "text/x-python",
   "name": "python",
   "nbconvert_exporter": "python",
   "pygments_lexer": "ipython3",
   "version": "3.9.13"
  }
 },
 "nbformat": 4,
 "nbformat_minor": 5
}
