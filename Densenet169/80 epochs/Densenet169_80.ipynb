{
 "cells": [
  {
   "cell_type": "code",
   "execution_count": null,
   "id": "a85125bd",
   "metadata": {},
   "outputs": [],
   "source": [
    "# Importing necessary libraries\n",
    "import os\n",
    "import numpy as np\n",
    "import pandas as pd\n",
    "import matplotlib.pyplot as plt\n",
    "import seaborn as sns\n",
    "from sklearn.model_selection import train_test_split\n",
    "from sklearn.metrics import confusion_matrix, classification_report\n",
    "import tensorflow as tf\n",
    "from tensorflow.keras.models import Sequential\n",
    "from tensorflow.keras.layers import Dense, GlobalAveragePooling2D, Dropout,BatchNormalization\n",
    "from tensorflow.keras.applications import DenseNet169\n",
    "from tensorflow.keras.preprocessing.image import ImageDataGenerator\n",
    "\n",
    "# Ignore Warnings\n",
    "import warnings\n",
    "warnings.filterwarnings(\"ignore\")"
   ]
  },
  {
   "cell_type": "code",
   "execution_count": null,
   "id": "f92fad81",
   "metadata": {},
   "outputs": [],
   "source": [
    "# Load and preprocess data\n",
    "data_dir = \"C:/Users/nani1/OneDrive/Desktop/oral cancer dataset/Oral Cancer\"\n",
    "labels = os.listdir(data_dir)\n",
    "filepaths = []\n",
    "for label in labels:\n",
    "    folder_path = os.path.join(data_dir, label)\n",
    "    filepaths.extend([os.path.join(folder_path, file) for file in os.listdir(folder_path)])"
   ]
  },
  {
   "cell_type": "code",
   "execution_count": null,
   "id": "ab45e3d0",
   "metadata": {},
   "outputs": [],
   "source": [
    "# Create DataFrame\n",
    "df = pd.DataFrame({\"filepaths\": filepaths, \"labels\": [os.path.basename(os.path.dirname(path)) for path in filepaths]})"
   ]
  },
  {
   "cell_type": "code",
   "execution_count": null,
   "id": "7a7fc0c9",
   "metadata": {},
   "outputs": [],
   "source": [
    "# Train-test split\n",
    "train_df, test_df = train_test_split(df, train_size=0.7, shuffle=True, random_state=123)\n",
    "valid_df, test_df = train_test_split(test_df, test_size=1/3, shuffle=True, random_state=123)\n"
   ]
  },
  {
   "cell_type": "code",
   "execution_count": null,
   "id": "b289d259",
   "metadata": {},
   "outputs": [],
   "source": [
    "# Image parameters\n",
    "batch_size = 128\n",
    "img_size = (224, 224)\n"
   ]
  },
  {
   "cell_type": "code",
   "execution_count": null,
   "id": "6f9272cc",
   "metadata": {},
   "outputs": [],
   "source": [
    "# Data Generators\n",
    "datagen = ImageDataGenerator(rescale=1./255,\n",
    "                             rotation_range=20,\n",
    "                             width_shift_range=0.2,\n",
    "                             height_shift_range=0.2,\n",
    "                             shear_range=0.2,\n",
    "                             zoom_range=0.2,\n",
    "                             horizontal_flip=True,\n",
    "                             fill_mode='nearest')\n",
    "train_gen = datagen.flow_from_dataframe(\n",
    "    train_df,\n",
    "    x_col='filepaths',\n",
    "    y_col='labels',\n",
    "    target_size=img_size,\n",
    "    batch_size=batch_size,\n",
    "    class_mode='categorical',\n",
    "    shuffle=True\n",
    ")\n",
    "valid_gen = datagen.flow_from_dataframe(\n",
    "    valid_df,\n",
    "    x_col='filepaths',\n",
    "    y_col='labels',\n",
    "    target_size=img_size,\n",
    "    batch_size=batch_size,\n",
    "    class_mode='categorical',\n",
    "    shuffle=False\n",
    ")\n",
    "test_gen = datagen.flow_from_dataframe(\n",
    "    test_df,\n",
    "    x_col='filepaths',\n",
    "    y_col='labels',\n",
    "    target_size=img_size,\n",
    "    batch_size=batch_size,\n",
    "    class_mode='categorical',\n",
    "    shuffle=False\n",
    ")\n"
   ]
  },
  {
   "cell_type": "code",
   "execution_count": null,
   "id": "dd90173c",
   "metadata": {},
   "outputs": [],
   "source": [
    "# Base model\n",
    "base_model = DenseNet201(weights='imagenet', include_top=False, input_shape=(img_size[0], img_size[1], 3))\n",
    "for layer in base_model.layers:\n",
    "    layer.trainable = False"
   ]
  },
  {
   "cell_type": "code",
   "execution_count": null,
   "id": "2274ed74",
   "metadata": {},
   "outputs": [],
   "source": [
    "# Custom head\n",
    "model = Sequential([\n",
    "    base_model,\n",
    "    GlobalAveragePooling2D(),\n",
    "    Dense(128, activation='relu'),\n",
    "    BatchNormalization(),\n",
    "    Dropout(0.36),\n",
    "    Dense(128, activation='relu'),\n",
    "    BatchNormalization(),\n",
    "    Dropout(0.36),\n",
    "    Dense(len(labels), activation='softmax')\n",
    "])"
   ]
  },
  {
   "cell_type": "code",
   "execution_count": null,
   "id": "462f9532",
   "metadata": {},
   "outputs": [],
   "source": [
    "# Compile the model\n",
    "model.compile(optimizer='adam',\n",
    "              loss='categorical_crossentropy',\n",
    "              metrics=['accuracy'])\n"
   ]
  },
  {
   "cell_type": "code",
   "execution_count": null,
   "id": "a01d44b6",
   "metadata": {},
   "outputs": [],
   "source": [
    "# Model Summary\n",
    "model.summary()"
   ]
  },
  {
   "cell_type": "code",
   "execution_count": null,
   "id": "90ccf185",
   "metadata": {},
   "outputs": [],
   "source": [
    "# Train the model\n",
    "history = model.fit(train_gen,\n",
    "                    epochs=80,\n",
    "                    validation_data=valid_gen)"
   ]
  },
  {
   "cell_type": "code",
   "execution_count": null,
   "id": "f4ab9653",
   "metadata": {},
   "outputs": [],
   "source": [
    "# Evaluate the model\n",
    "test_loss, test_acc = model.evaluate(test_gen)\n",
    "print(\"Test Loss:\", test_loss)\n",
    "print(\"Test Accuracy:\", test_acc)"
   ]
  },
  {
   "cell_type": "code",
   "execution_count": null,
   "id": "e7f6e888",
   "metadata": {},
   "outputs": [],
   "source": [
    "# Confusion matrix\n",
    "y_pred = model.predict(test_gen)\n",
    "y_pred_classes = np.argmax(y_pred, axis=1)\n",
    "true_classes = test_gen.classes\n",
    "class_labels = list(test_gen.class_indices.keys())\n",
    "cm = confusion_matrix(true_classes, y_pred_classes)"
   ]
  },
  {
   "cell_type": "code",
   "execution_count": null,
   "id": "44958fa3",
   "metadata": {},
   "outputs": [],
   "source": [
    "# Plot confusion matrix\n",
    "plt.figure(figsize=(8, 8))\n",
    "sns.heatmap(cm, annot=True, fmt='d', cmap='Blues', xticklabels=class_labels, yticklabels=class_labels)\n",
    "plt.xlabel('Predicted')\n",
    "plt.ylabel('Actual')\n",
    "plt.title('Confusion Matrix')\n",
    "plt.show()"
   ]
  },
  {
   "cell_type": "code",
   "execution_count": null,
   "id": "a08e5bf7",
   "metadata": {},
   "outputs": [],
   "source": [
    "# Classification report\n",
    "print(classification_report(true_classes, y_pred_classes, target_names=class_labels))\n"
   ]
  },
  {
   "cell_type": "code",
   "execution_count": null,
   "id": "8d751773",
   "metadata": {},
   "outputs": [],
   "source": [
    "model.save(r'C:/Users/nani1/OneDrive/Desktop/Densenet169/80 epochs/Densenet169_80.h5')\n",
    "model1 = tf.keras.models.load_model(r'C:/Users/nani1/OneDrive/Desktop/Densenet169/80 epochs/Densenet169_80.h5')"
   ]
  },
  {
   "cell_type": "code",
   "execution_count": null,
   "id": "4b2ed359",
   "metadata": {},
   "outputs": [],
   "source": []
  },
  {
   "cell_type": "code",
   "execution_count": null,
   "id": "973e5b3f",
   "metadata": {},
   "outputs": [],
   "source": []
  }
 ],
 "metadata": {
  "kernelspec": {
   "display_name": "Python 3 (ipykernel)",
   "language": "python",
   "name": "python3"
  },
  "language_info": {
   "codemirror_mode": {
    "name": "ipython",
    "version": 3
   },
   "file_extension": ".py",
   "mimetype": "text/x-python",
   "name": "python",
   "nbconvert_exporter": "python",
   "pygments_lexer": "ipython3",
   "version": "3.9.13"
  }
 },
 "nbformat": 4,
 "nbformat_minor": 5
}
