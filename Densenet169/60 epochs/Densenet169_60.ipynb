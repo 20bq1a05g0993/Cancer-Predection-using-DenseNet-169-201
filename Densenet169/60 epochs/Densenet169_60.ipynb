{
 "cells": [
  {
   "cell_type": "code",
   "execution_count": 1,
   "id": "7222745f",
   "metadata": {},
   "outputs": [],
   "source": [
    "# Importing necessary libraries\n",
    "import os\n",
    "import numpy as np\n",
    "import pandas as pd\n",
    "import matplotlib.pyplot as plt\n",
    "import seaborn as sns\n",
    "from sklearn.model_selection import train_test_split\n",
    "from sklearn.metrics import confusion_matrix, classification_report\n",
    "import tensorflow as tf\n",
    "from tensorflow.keras.models import Sequential\n",
    "from tensorflow.keras.layers import Dense, GlobalAveragePooling2D, Dropout,BatchNormalization\n",
    "from tensorflow.keras.applications import DenseNet169\n",
    "from tensorflow.keras.preprocessing.image import ImageDataGenerator\n",
    "\n",
    "# Ignore Warnings\n",
    "import warnings\n",
    "warnings.filterwarnings(\"ignore\")"
   ]
  },
  {
   "cell_type": "code",
   "execution_count": 2,
   "id": "92f1682c",
   "metadata": {},
   "outputs": [],
   "source": [
    "# Load and preprocess data\n",
    "data_dir = \"C:/Users/nani1/OneDrive/Desktop/oral cancer dataset/Oral Cancer\"\n",
    "labels = os.listdir(data_dir)\n",
    "filepaths = []\n",
    "for label in labels:\n",
    "    folder_path = os.path.join(data_dir, label)\n",
    "    filepaths.extend([os.path.join(folder_path, file) for file in os.listdir(folder_path)])\n"
   ]
  },
  {
   "cell_type": "code",
   "execution_count": 3,
   "id": "54c106cc",
   "metadata": {},
   "outputs": [],
   "source": [
    "# Create DataFrame\n",
    "df = pd.DataFrame({\"filepaths\": filepaths, \"labels\": [os.path.basename(os.path.dirname(path)) for path in filepaths]})\n"
   ]
  },
  {
   "cell_type": "code",
   "execution_count": 4,
   "id": "533d8f2e",
   "metadata": {},
   "outputs": [],
   "source": [
    "# Train-test split\n",
    "train_df, test_df = train_test_split(df, train_size=0.7, shuffle=True, random_state=123)\n",
    "valid_df, test_df = train_test_split(test_df, test_size=1/3, shuffle=True, random_state=123)"
   ]
  },
  {
   "cell_type": "code",
   "execution_count": 5,
   "id": "73ddb034",
   "metadata": {},
   "outputs": [],
   "source": [
    "# Image parameters\n",
    "batch_size = 128\n",
    "img_size = (224, 224)\n"
   ]
  },
  {
   "cell_type": "code",
   "execution_count": 6,
   "id": "4f84feb6",
   "metadata": {},
   "outputs": [
    {
     "name": "stdout",
     "output_type": "stream",
     "text": [
      "Found 7001 validated image filenames belonging to 2 classes.\n",
      "Found 2000 validated image filenames belonging to 2 classes.\n",
      "Found 1001 validated image filenames belonging to 2 classes.\n"
     ]
    }
   ],
   "source": [
    "# Data Generators\n",
    "datagen = ImageDataGenerator(rescale=1./255)\n",
    "train_gen = datagen.flow_from_dataframe(\n",
    "    train_df,\n",
    "    x_col='filepaths',\n",
    "    y_col='labels',\n",
    "    target_size=img_size,\n",
    "    batch_size=batch_size,\n",
    "    class_mode='categorical',\n",
    "    shuffle=True\n",
    ")\n",
    "valid_gen = datagen.flow_from_dataframe(\n",
    "    valid_df,\n",
    "    x_col='filepaths',\n",
    "    y_col='labels',\n",
    "    target_size=img_size,\n",
    "    batch_size=batch_size,\n",
    "    class_mode='categorical',\n",
    "    shuffle=False\n",
    ")\n",
    "test_gen = datagen.flow_from_dataframe(\n",
    "    test_df,\n",
    "    x_col='filepaths',\n",
    "    y_col='labels',\n",
    "    target_size=img_size,\n",
    "    batch_size=batch_size,\n",
    "    class_mode='categorical',\n",
    "    shuffle=False\n",
    ")\n"
   ]
  },
  {
   "cell_type": "code",
   "execution_count": 7,
   "id": "9f530a6a",
   "metadata": {},
   "outputs": [],
   "source": [
    "# Base model\n",
    "base_model = DenseNet169(weights='imagenet', include_top=False, input_shape=(img_size[0], img_size[1], 3))\n",
    "for layer in base_model.layers:\n",
    "    layer.trainable = False"
   ]
  },
  {
   "cell_type": "code",
   "execution_count": 8,
   "id": "0946bdf2",
   "metadata": {},
   "outputs": [],
   "source": [
    "# Custom head\n",
    "model = Sequential([\n",
    "    base_model,\n",
    "    GlobalAveragePooling2D(),\n",
    "    Dense(128, activation='relu'),\n",
    "    BatchNormalization(),\n",
    "    Dropout(0.36),\n",
    "    Dense(128, activation='relu'),\n",
    "    BatchNormalization(),\n",
    "    Dropout(0.36),\n",
    "    Dense(len(labels), activation='softmax')\n",
    "])"
   ]
  },
  {
   "cell_type": "code",
   "execution_count": 9,
   "id": "580ae95a",
   "metadata": {},
   "outputs": [],
   "source": [
    "# Compile the model\n",
    "model.compile(optimizer='adam',\n",
    "              loss='categorical_crossentropy',\n",
    "              metrics=['accuracy'])\n"
   ]
  },
  {
   "cell_type": "code",
   "execution_count": 10,
   "id": "0ab53f7e",
   "metadata": {},
   "outputs": [
    {
     "name": "stdout",
     "output_type": "stream",
     "text": [
      "Model: \"sequential\"\n",
      "_________________________________________________________________\n",
      " Layer (type)                Output Shape              Param #   \n",
      "=================================================================\n",
      " densenet169 (Functional)    (None, 7, 7, 1664)        12642880  \n",
      "                                                                 \n",
      " global_average_pooling2d (  (None, 1664)              0         \n",
      " GlobalAveragePooling2D)                                         \n",
      "                                                                 \n",
      " dense (Dense)               (None, 128)               213120    \n",
      "                                                                 \n",
      " batch_normalization (Batch  (None, 128)               512       \n",
      " Normalization)                                                  \n",
      "                                                                 \n",
      " dropout (Dropout)           (None, 128)               0         \n",
      "                                                                 \n",
      " dense_1 (Dense)             (None, 128)               16512     \n",
      "                                                                 \n",
      " batch_normalization_1 (Bat  (None, 128)               512       \n",
      " chNormalization)                                                \n",
      "                                                                 \n",
      " dropout_1 (Dropout)         (None, 128)               0         \n",
      "                                                                 \n",
      " dense_2 (Dense)             (None, 2)                 258       \n",
      "                                                                 \n",
      "=================================================================\n",
      "Total params: 12873794 (49.11 MB)\n",
      "Trainable params: 230402 (900.01 KB)\n",
      "Non-trainable params: 12643392 (48.23 MB)\n",
      "_________________________________________________________________\n"
     ]
    }
   ],
   "source": [
    "# Model Summary\n",
    "model.summary()"
   ]
  },
  {
   "cell_type": "code",
   "execution_count": 11,
   "id": "240f0336",
   "metadata": {},
   "outputs": [
    {
     "name": "stdout",
     "output_type": "stream",
     "text": [
      "Epoch 1/60\n",
      "55/55 [==============================] - 661s 12s/step - loss: 0.6502 - accuracy: 0.7249 - val_loss: 0.4498 - val_accuracy: 0.7815\n",
      "Epoch 2/60\n",
      "55/55 [==============================] - 626s 11s/step - loss: 0.4326 - accuracy: 0.8152 - val_loss: 0.3608 - val_accuracy: 0.8375\n",
      "Epoch 3/60\n",
      "55/55 [==============================] - 592s 11s/step - loss: 0.3470 - accuracy: 0.8476 - val_loss: 0.3334 - val_accuracy: 0.8570\n",
      "Epoch 4/60\n",
      "55/55 [==============================] - 564s 10s/step - loss: 0.2911 - accuracy: 0.8780 - val_loss: 0.2848 - val_accuracy: 0.8820\n",
      "Epoch 5/60\n",
      "55/55 [==============================] - 564s 10s/step - loss: 0.2532 - accuracy: 0.8944 - val_loss: 0.2585 - val_accuracy: 0.8975\n",
      "Epoch 6/60\n",
      "55/55 [==============================] - 565s 10s/step - loss: 0.2353 - accuracy: 0.9046 - val_loss: 0.2758 - val_accuracy: 0.8770\n",
      "Epoch 7/60\n",
      "55/55 [==============================] - 564s 10s/step - loss: 0.2150 - accuracy: 0.9093 - val_loss: 0.2392 - val_accuracy: 0.9030\n",
      "Epoch 8/60\n",
      "55/55 [==============================] - 562s 10s/step - loss: 0.1898 - accuracy: 0.9260 - val_loss: 0.2189 - val_accuracy: 0.9145\n",
      "Epoch 9/60\n",
      "55/55 [==============================] - 564s 10s/step - loss: 0.1695 - accuracy: 0.9330 - val_loss: 0.2294 - val_accuracy: 0.9085\n",
      "Epoch 10/60\n",
      "55/55 [==============================] - 563s 10s/step - loss: 0.1639 - accuracy: 0.9384 - val_loss: 0.2194 - val_accuracy: 0.9145\n",
      "Epoch 11/60\n",
      "55/55 [==============================] - 564s 10s/step - loss: 0.1481 - accuracy: 0.9419 - val_loss: 0.2368 - val_accuracy: 0.9080\n",
      "Epoch 12/60\n",
      "55/55 [==============================] - 564s 10s/step - loss: 0.1379 - accuracy: 0.9419 - val_loss: 0.2174 - val_accuracy: 0.9090\n",
      "Epoch 13/60\n",
      "55/55 [==============================] - 562s 10s/step - loss: 0.1288 - accuracy: 0.9483 - val_loss: 0.3019 - val_accuracy: 0.8890\n",
      "Epoch 14/60\n",
      "55/55 [==============================] - 564s 10s/step - loss: 0.1345 - accuracy: 0.9457 - val_loss: 0.1947 - val_accuracy: 0.9265\n",
      "Epoch 15/60\n",
      "55/55 [==============================] - 564s 10s/step - loss: 0.1168 - accuracy: 0.9523 - val_loss: 0.2771 - val_accuracy: 0.8885\n",
      "Epoch 16/60\n",
      "55/55 [==============================] - 562s 10s/step - loss: 0.1058 - accuracy: 0.9591 - val_loss: 0.2943 - val_accuracy: 0.9005\n",
      "Epoch 17/60\n",
      "55/55 [==============================] - 563s 10s/step - loss: 0.1007 - accuracy: 0.9610 - val_loss: 0.2168 - val_accuracy: 0.9175\n",
      "Epoch 18/60\n",
      "55/55 [==============================] - 564s 10s/step - loss: 0.0888 - accuracy: 0.9673 - val_loss: 0.1955 - val_accuracy: 0.9265\n",
      "Epoch 19/60\n",
      "55/55 [==============================] - 562s 10s/step - loss: 0.0821 - accuracy: 0.9676 - val_loss: 0.2440 - val_accuracy: 0.9180\n",
      "Epoch 20/60\n",
      "55/55 [==============================] - 564s 10s/step - loss: 0.0855 - accuracy: 0.9681 - val_loss: 0.2650 - val_accuracy: 0.9000\n",
      "Epoch 21/60\n",
      "55/55 [==============================] - 562s 10s/step - loss: 0.0849 - accuracy: 0.9686 - val_loss: 0.2358 - val_accuracy: 0.9225\n",
      "Epoch 22/60\n",
      "55/55 [==============================] - 570s 10s/step - loss: 0.0894 - accuracy: 0.9651 - val_loss: 0.2618 - val_accuracy: 0.9155\n",
      "Epoch 23/60\n",
      "55/55 [==============================] - 565s 10s/step - loss: 0.0830 - accuracy: 0.9673 - val_loss: 0.2375 - val_accuracy: 0.9205\n",
      "Epoch 24/60\n",
      "55/55 [==============================] - 567s 10s/step - loss: 0.0765 - accuracy: 0.9706 - val_loss: 0.2327 - val_accuracy: 0.9270\n",
      "Epoch 25/60\n",
      "55/55 [==============================] - 565s 10s/step - loss: 0.0775 - accuracy: 0.9696 - val_loss: 0.2485 - val_accuracy: 0.9165\n",
      "Epoch 26/60\n",
      "55/55 [==============================] - 565s 10s/step - loss: 0.0850 - accuracy: 0.9689 - val_loss: 0.2132 - val_accuracy: 0.9270\n",
      "Epoch 27/60\n",
      "55/55 [==============================] - 564s 10s/step - loss: 0.0675 - accuracy: 0.9740 - val_loss: 0.2595 - val_accuracy: 0.9170\n",
      "Epoch 28/60\n",
      "55/55 [==============================] - 564s 10s/step - loss: 0.0693 - accuracy: 0.9729 - val_loss: 0.2918 - val_accuracy: 0.9060\n",
      "Epoch 29/60\n",
      "55/55 [==============================] - 566s 10s/step - loss: 0.0708 - accuracy: 0.9721 - val_loss: 0.2418 - val_accuracy: 0.9250\n",
      "Epoch 30/60\n",
      "55/55 [==============================] - 566s 10s/step - loss: 0.0713 - accuracy: 0.9730 - val_loss: 0.2408 - val_accuracy: 0.9225\n",
      "Epoch 31/60\n",
      "55/55 [==============================] - 566s 10s/step - loss: 0.0658 - accuracy: 0.9753 - val_loss: 0.2348 - val_accuracy: 0.9270\n",
      "Epoch 32/60\n",
      "55/55 [==============================] - 568s 10s/step - loss: 0.0652 - accuracy: 0.9756 - val_loss: 0.2331 - val_accuracy: 0.9230\n",
      "Epoch 33/60\n",
      "55/55 [==============================] - 566s 10s/step - loss: 0.0605 - accuracy: 0.9773 - val_loss: 0.2191 - val_accuracy: 0.9330\n",
      "Epoch 34/60\n",
      "55/55 [==============================] - 565s 10s/step - loss: 0.0595 - accuracy: 0.9780 - val_loss: 0.2704 - val_accuracy: 0.9260\n",
      "Epoch 35/60\n",
      "55/55 [==============================] - 567s 10s/step - loss: 0.0587 - accuracy: 0.9774 - val_loss: 0.2727 - val_accuracy: 0.9185\n",
      "Epoch 36/60\n",
      "55/55 [==============================] - 566s 10s/step - loss: 0.0659 - accuracy: 0.9747 - val_loss: 0.2537 - val_accuracy: 0.9170\n",
      "Epoch 37/60\n",
      "55/55 [==============================] - 567s 10s/step - loss: 0.0620 - accuracy: 0.9750 - val_loss: 0.2242 - val_accuracy: 0.9195\n",
      "Epoch 38/60\n",
      "55/55 [==============================] - 566s 10s/step - loss: 0.0588 - accuracy: 0.9770 - val_loss: 0.2854 - val_accuracy: 0.9265\n",
      "Epoch 39/60\n",
      "55/55 [==============================] - 567s 10s/step - loss: 0.0588 - accuracy: 0.9780 - val_loss: 0.2394 - val_accuracy: 0.9350\n",
      "Epoch 40/60\n",
      "55/55 [==============================] - 565s 10s/step - loss: 0.0537 - accuracy: 0.9800 - val_loss: 0.2391 - val_accuracy: 0.9225\n",
      "Epoch 41/60\n",
      "55/55 [==============================] - 566s 10s/step - loss: 0.0527 - accuracy: 0.9801 - val_loss: 0.2410 - val_accuracy: 0.9235\n",
      "Epoch 42/60\n",
      "55/55 [==============================] - 567s 10s/step - loss: 0.0492 - accuracy: 0.9824 - val_loss: 0.2564 - val_accuracy: 0.9255\n",
      "Epoch 43/60\n",
      "55/55 [==============================] - 567s 10s/step - loss: 0.0466 - accuracy: 0.9831 - val_loss: 0.2490 - val_accuracy: 0.9220\n",
      "Epoch 44/60\n",
      "55/55 [==============================] - 566s 10s/step - loss: 0.0566 - accuracy: 0.9790 - val_loss: 0.2760 - val_accuracy: 0.9235\n",
      "Epoch 45/60\n",
      "55/55 [==============================] - 568s 10s/step - loss: 0.0704 - accuracy: 0.9746 - val_loss: 0.2575 - val_accuracy: 0.9190\n",
      "Epoch 46/60\n",
      "55/55 [==============================] - 645s 12s/step - loss: 0.0532 - accuracy: 0.9786 - val_loss: 0.2889 - val_accuracy: 0.9170\n",
      "Epoch 47/60\n",
      "55/55 [==============================] - 633s 12s/step - loss: 0.0470 - accuracy: 0.9821 - val_loss: 0.2808 - val_accuracy: 0.9205\n",
      "Epoch 48/60\n",
      "55/55 [==============================] - 640s 12s/step - loss: 0.0543 - accuracy: 0.9787 - val_loss: 0.2724 - val_accuracy: 0.9295\n",
      "Epoch 49/60\n",
      "55/55 [==============================] - 612s 11s/step - loss: 0.0606 - accuracy: 0.9776 - val_loss: 0.2290 - val_accuracy: 0.9375\n",
      "Epoch 50/60\n",
      "55/55 [==============================] - 567s 10s/step - loss: 0.0498 - accuracy: 0.9807 - val_loss: 0.2396 - val_accuracy: 0.9300\n",
      "Epoch 51/60\n",
      "55/55 [==============================] - 568s 10s/step - loss: 0.0522 - accuracy: 0.9794 - val_loss: 0.2360 - val_accuracy: 0.9290\n",
      "Epoch 52/60\n",
      "55/55 [==============================] - 568s 10s/step - loss: 0.0669 - accuracy: 0.9740 - val_loss: 0.3184 - val_accuracy: 0.9160\n",
      "Epoch 53/60\n",
      "55/55 [==============================] - 643s 12s/step - loss: 0.0574 - accuracy: 0.9796 - val_loss: 0.2092 - val_accuracy: 0.9325\n",
      "Epoch 54/60\n",
      "55/55 [==============================] - 744s 14s/step - loss: 0.0585 - accuracy: 0.9789 - val_loss: 0.3011 - val_accuracy: 0.9050\n",
      "Epoch 55/60\n",
      "55/55 [==============================] - 798s 15s/step - loss: 0.0460 - accuracy: 0.9813 - val_loss: 0.2311 - val_accuracy: 0.9355\n",
      "Epoch 56/60\n",
      "55/55 [==============================] - 894s 16s/step - loss: 0.0481 - accuracy: 0.9821 - val_loss: 0.1994 - val_accuracy: 0.9375\n",
      "Epoch 57/60\n",
      "55/55 [==============================] - 904s 17s/step - loss: 0.0465 - accuracy: 0.9820 - val_loss: 0.2314 - val_accuracy: 0.9280\n",
      "Epoch 58/60\n",
      "55/55 [==============================] - 889s 16s/step - loss: 0.0448 - accuracy: 0.9851 - val_loss: 0.2816 - val_accuracy: 0.9290\n",
      "Epoch 59/60\n",
      "55/55 [==============================] - 729s 13s/step - loss: 0.0516 - accuracy: 0.9813 - val_loss: 0.2210 - val_accuracy: 0.9335\n",
      "Epoch 60/60\n",
      "55/55 [==============================] - 566s 10s/step - loss: 0.0413 - accuracy: 0.9857 - val_loss: 0.2188 - val_accuracy: 0.9390\n"
     ]
    }
   ],
   "source": [
    "# Train the model\n",
    "history = model.fit(train_gen,\n",
    "                    epochs=60,\n",
    "                    validation_data=valid_gen)"
   ]
  },
  {
   "cell_type": "code",
   "execution_count": 12,
   "id": "9d19006b",
   "metadata": {},
   "outputs": [
    {
     "name": "stdout",
     "output_type": "stream",
     "text": [
      "8/8 [==============================] - 71s 9s/step - loss: 0.2142 - accuracy: 0.9441\n",
      "Test Loss: 0.214180126786232\n",
      "Test Accuracy: 0.9440559148788452\n"
     ]
    }
   ],
   "source": [
    "# Evaluate the model\n",
    "test_loss, test_acc = model.evaluate(test_gen)\n",
    "print(\"Test Loss:\", test_loss)\n",
    "print(\"Test Accuracy:\", test_acc)"
   ]
  },
  {
   "cell_type": "code",
   "execution_count": 13,
   "id": "15ee5493",
   "metadata": {},
   "outputs": [
    {
     "name": "stdout",
     "output_type": "stream",
     "text": [
      "8/8 [==============================] - 70s 8s/step\n"
     ]
    }
   ],
   "source": [
    "# Confusion matrix\n",
    "y_pred = model.predict(test_gen)\n",
    "y_pred_classes = np.argmax(y_pred, axis=1)\n",
    "true_classes = test_gen.classes\n",
    "class_labels = list(test_gen.class_indices.keys())\n",
    "cm = confusion_matrix(true_classes, y_pred_classes)"
   ]
  },
  {
   "cell_type": "code",
   "execution_count": 14,
   "id": "b61df492",
   "metadata": {},
   "outputs": [
    {
     "data": {
      "image/png": "[encoded data removed]",
      "text/plain": [
       "<Figure size 800x800 with 2 Axes>"
      ]
     },
     "metadata": {},
     "output_type": "display_data"
    }
   ],
   "source": [
    "# Plot confusion matrix\n",
    "plt.figure(figsize=(8, 8))\n",
    "sns.heatmap(cm, annot=True, fmt='d', cmap='Blues', xticklabels=class_labels, yticklabels=class_labels)\n",
    "plt.xlabel('Predicted')\n",
    "plt.ylabel('Actual')\n",
    "plt.title('Confusion Matrix')\n",
    "plt.show()"
   ]
  },
  {
   "cell_type": "code",
   "execution_count": 15,
   "id": "2bc40cdc",
   "metadata": {},
   "outputs": [
    {
     "name": "stdout",
     "output_type": "stream",
     "text": [
      "              precision    recall  f1-score   support\n",
      "\n",
      " oral_normal       0.93      0.96      0.95       507\n",
      "    oral_scc       0.96      0.93      0.94       494\n",
      "\n",
      "    accuracy                           0.94      1001\n",
      "   macro avg       0.94      0.94      0.94      1001\n",
      "weighted avg       0.94      0.94      0.94      1001\n",
      "\n"
     ]
    }
   ],
   "source": [
    "# Classification report\n",
    "print(classification_report(true_classes, y_pred_classes, target_names=class_labels))\n"
   ]
  },
  {
   "cell_type": "code",
   "execution_count": 1,
   "id": "87eb93c4",
   "metadata": {},
   "outputs": [
    {
     "ename": "NameError",
     "evalue": "name 'model' is not defined",
     "output_type": "error",
     "traceback": [
      "\u001b[1;31m---------------------------------------------------------------------------\u001b[0m",
      "\u001b[1;31mNameError\u001b[0m                                 Traceback (most recent call last)",
      "\u001b[1;32m~\\AppData\\Local\\Temp\\ipykernel_2240\\854610845.py\u001b[0m in \u001b[0;36m<module>\u001b[1;34m\u001b[0m\n\u001b[1;32m----> 1\u001b[1;33m \u001b[0mmodel\u001b[0m\u001b[1;33m.\u001b[0m\u001b[0msave\u001b[0m\u001b[1;33m(\u001b[0m\u001b[1;34mr'C:/Users/nani1/OneDrive/Desktop/Densenet 201/Densenet169.h5'\u001b[0m\u001b[1;33m)\u001b[0m\u001b[1;33m\u001b[0m\u001b[1;33m\u001b[0m\u001b[0m\n\u001b[0m\u001b[0;32m      2\u001b[0m \u001b[0mmodel1\u001b[0m \u001b[1;33m=\u001b[0m \u001b[0mtf\u001b[0m\u001b[1;33m.\u001b[0m\u001b[0mkeras\u001b[0m\u001b[1;33m.\u001b[0m\u001b[0mmodels\u001b[0m\u001b[1;33m.\u001b[0m\u001b[0mload_model\u001b[0m\u001b[1;33m(\u001b[0m\u001b[1;34mr'C:/Users/nani1/OneDrive/Desktop/Densenet 201/Densenet169.h5'\u001b[0m\u001b[1;33m)\u001b[0m\u001b[1;33m\u001b[0m\u001b[1;33m\u001b[0m\u001b[0m\n",
      "\u001b[1;31mNameError\u001b[0m: name 'model' is not defined"
     ]
    }
   ],
   "source": [
    "model.save(r'C:/Users/nani1/OneDrive/Desktop/Densenet 201/Densenet169.h5')\n",
    "model1 = tf.keras.models.load_model(r'C:/Users/nani1/OneDrive/Desktop/Densenet 201/Densenet169.h5')"
   ]
  },
  {
   "cell_type": "code",
   "execution_count": null,
   "id": "19d73ca3",
   "metadata": {},
   "outputs": [],
   "source": []
  }
 ],
 "metadata": {
  "kernelspec": {
   "display_name": "Python 3 (ipykernel)",
   "language": "python",
   "name": "python3"
  },
  "language_info": {
   "codemirror_mode": {
    "name": "ipython",
    "version": 3
   },
   "file_extension": ".py",
   "mimetype": "text/x-python",
   "name": "python",
   "nbconvert_exporter": "python",
   "pygments_lexer": "ipython3",
   "version": "3.9.13"
  }
 },
 "nbformat": 4,
 "nbformat_minor": 5
}
