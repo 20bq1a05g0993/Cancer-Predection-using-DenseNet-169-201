{
 "cells": [
  {
   "cell_type": "code",
   "execution_count": 1,
   "id": "4fa60b70",
   "metadata": {},
   "outputs": [],
   "source": [
    "# Importing necessary libraries\n",
    "import os\n",
    "import numpy as np\n",
    "import pandas as pd\n",
    "import matplotlib.pyplot as plt\n",
    "import seaborn as sns\n",
    "from sklearn.model_selection import train_test_split\n",
    "from sklearn.metrics import confusion_matrix, classification_report\n",
    "import tensorflow as tf\n",
    "from tensorflow.keras.models import Sequential\n",
    "from tensorflow.keras.layers import Dense, GlobalAveragePooling2D, Dropout,BatchNormalization\n",
    "from tensorflow.keras.applications import DenseNet169\n",
    "from tensorflow.keras.preprocessing.image import ImageDataGenerator\n",
    "\n",
    "# Ignore Warnings\n",
    "import warnings\n",
    "warnings.filterwarnings(\"ignore\")"
   ]
  },
  {
   "cell_type": "code",
   "execution_count": 2,
   "id": "0983b84e",
   "metadata": {},
   "outputs": [],
   "source": [
    "# Load and preprocess data\n",
    "data_dir = \"C:/Users/nani1/OneDrive/Desktop/oral cancer dataset/Oral Cancer\"\n",
    "labels = os.listdir(data_dir)\n",
    "filepaths = []\n",
    "for label in labels:\n",
    "    folder_path = os.path.join(data_dir, label)\n",
    "    filepaths.extend([os.path.join(folder_path, file) for file in os.listdir(folder_path)])"
   ]
  },
  {
   "cell_type": "code",
   "execution_count": 3,
   "id": "b1bb655a",
   "metadata": {},
   "outputs": [],
   "source": [
    "# Create DataFrame\n",
    "df = pd.DataFrame({\"filepaths\": filepaths, \"labels\": [os.path.basename(os.path.dirname(path)) for path in filepaths]})"
   ]
  },
  {
   "cell_type": "code",
   "execution_count": 4,
   "id": "85520420",
   "metadata": {},
   "outputs": [],
   "source": [
    "# Train-test split\n",
    "train_df, test_df = train_test_split(df, train_size=0.7, shuffle=True, random_state=123)\n",
    "valid_df, test_df = train_test_split(test_df, test_size=1/3, shuffle=True, random_state=123)\n"
   ]
  },
  {
   "cell_type": "code",
   "execution_count": 5,
   "id": "92d1f449",
   "metadata": {},
   "outputs": [],
   "source": [
    "# Image parameters\n",
    "batch_size = 128\n",
    "img_size = (224, 224)\n"
   ]
  },
  {
   "cell_type": "code",
   "execution_count": 6,
   "id": "4c5f6933",
   "metadata": {},
   "outputs": [
    {
     "name": "stdout",
     "output_type": "stream",
     "text": [
      "Found 7001 validated image filenames belonging to 2 classes.\n",
      "Found 2000 validated image filenames belonging to 2 classes.\n",
      "Found 1001 validated image filenames belonging to 2 classes.\n"
     ]
    }
   ],
   "source": [
    "# Data Generators\n",
    "datagen = ImageDataGenerator(rescale=1./255,\n",
    "                             rotation_range=20,\n",
    "                             width_shift_range=0.2,\n",
    "                             height_shift_range=0.2,\n",
    "                             shear_range=0.2,\n",
    "                             zoom_range=0.2,\n",
    "                             horizontal_flip=True,\n",
    "                             fill_mode='nearest')\n",
    "train_gen = datagen.flow_from_dataframe(\n",
    "    train_df,\n",
    "    x_col='filepaths',\n",
    "    y_col='labels',\n",
    "    target_size=img_size,\n",
    "    batch_size=batch_size,\n",
    "    class_mode='categorical',\n",
    "    shuffle=True\n",
    ")\n",
    "valid_gen = datagen.flow_from_dataframe(\n",
    "    valid_df,\n",
    "    x_col='filepaths',\n",
    "    y_col='labels',\n",
    "    target_size=img_size,\n",
    "    batch_size=batch_size,\n",
    "    class_mode='categorical',\n",
    "    shuffle=False\n",
    ")\n",
    "test_gen = datagen.flow_from_dataframe(\n",
    "    test_df,\n",
    "    x_col='filepaths',\n",
    "    y_col='labels',\n",
    "    target_size=img_size,\n",
    "    batch_size=batch_size,\n",
    "    class_mode='categorical',\n",
    "    shuffle=False\n",
    ")\n"
   ]
  },
  {
   "cell_type": "code",
   "execution_count": 8,
   "id": "456aa931",
   "metadata": {},
   "outputs": [],
   "source": [
    "# Base model\n",
    "base_model = DenseNet169(weights='imagenet', include_top=False, input_shape=(img_size[0], img_size[1], 3))\n",
    "for layer in base_model.layers:\n",
    "    layer.trainable = False"
   ]
  },
  {
   "cell_type": "code",
   "execution_count": 9,
   "id": "c32a61ef",
   "metadata": {},
   "outputs": [],
   "source": [
    "# Custom head\n",
    "model = Sequential([\n",
    "    base_model,\n",
    "    GlobalAveragePooling2D(),\n",
    "    Dense(128, activation='relu'),\n",
    "    BatchNormalization(),\n",
    "    Dropout(0.36),\n",
    "    Dense(128, activation='relu'),\n",
    "    BatchNormalization(),\n",
    "    Dropout(0.36),\n",
    "    Dense(len(labels), activation='softmax')\n",
    "])"
   ]
  },
  {
   "cell_type": "code",
   "execution_count": 10,
   "id": "04cc2c84",
   "metadata": {},
   "outputs": [],
   "source": [
    "# Compile the model\n",
    "model.compile(optimizer='adam',\n",
    "              loss='categorical_crossentropy',\n",
    "              metrics=['accuracy'])\n"
   ]
  },
  {
   "cell_type": "code",
   "execution_count": 11,
   "id": "be870d5b",
   "metadata": {},
   "outputs": [
    {
     "name": "stdout",
     "output_type": "stream",
     "text": [
      "Model: \"sequential\"\n",
      "_________________________________________________________________\n",
      " Layer (type)                Output Shape              Param #   \n",
      "=================================================================\n",
      " densenet169 (Functional)    (None, 7, 7, 1664)        12642880  \n",
      "                                                                 \n",
      " global_average_pooling2d (  (None, 1664)              0         \n",
      " GlobalAveragePooling2D)                                         \n",
      "                                                                 \n",
      " dense (Dense)               (None, 128)               213120    \n",
      "                                                                 \n",
      " batch_normalization (Batch  (None, 128)               512       \n",
      " Normalization)                                                  \n",
      "                                                                 \n",
      " dropout (Dropout)           (None, 128)               0         \n",
      "                                                                 \n",
      " dense_1 (Dense)             (None, 128)               16512     \n",
      "                                                                 \n",
      " batch_normalization_1 (Bat  (None, 128)               512       \n",
      " chNormalization)                                                \n",
      "                                                                 \n",
      " dropout_1 (Dropout)         (None, 128)               0         \n",
      "                                                                 \n",
      " dense_2 (Dense)             (None, 2)                 258       \n",
      "                                                                 \n",
      "=================================================================\n",
      "Total params: 12873794 (49.11 MB)\n",
      "Trainable params: 230402 (900.01 KB)\n",
      "Non-trainable params: 12643392 (48.23 MB)\n",
      "_________________________________________________________________\n"
     ]
    }
   ],
   "source": [
    "# Model Summary\n",
    "model.summary()"
   ]
  },
  {
   "cell_type": "code",
   "execution_count": 12,
   "id": "b46ada8d",
   "metadata": {},
   "outputs": [
    {
     "name": "stdout",
     "output_type": "stream",
     "text": [
      "Epoch 1/10\n",
      "55/55 [==============================] - 642s 12s/step - loss: 0.6959 - accuracy: 0.7033 - val_loss: 0.4708 - val_accuracy: 0.7735\n",
      "Epoch 2/10\n",
      "55/55 [==============================] - 616s 11s/step - loss: 0.5037 - accuracy: 0.7727 - val_loss: 0.4215 - val_accuracy: 0.8065\n",
      "Epoch 3/10\n",
      "55/55 [==============================] - 631s 11s/step - loss: 0.4312 - accuracy: 0.8097 - val_loss: 0.3867 - val_accuracy: 0.8325\n",
      "Epoch 4/10\n",
      "55/55 [==============================] - 624s 11s/step - loss: 0.3973 - accuracy: 0.8233 - val_loss: 0.3497 - val_accuracy: 0.8480\n",
      "Epoch 5/10\n",
      "55/55 [==============================] - 636s 12s/step - loss: 0.3609 - accuracy: 0.8415 - val_loss: 0.3493 - val_accuracy: 0.8455\n",
      "Epoch 6/10\n",
      "55/55 [==============================] - 637s 12s/step - loss: 0.3477 - accuracy: 0.8437 - val_loss: 0.3548 - val_accuracy: 0.8495\n",
      "Epoch 7/10\n",
      "55/55 [==============================] - 630s 11s/step - loss: 0.3309 - accuracy: 0.8539 - val_loss: 0.2989 - val_accuracy: 0.8735\n",
      "Epoch 8/10\n",
      "55/55 [==============================] - 641s 12s/step - loss: 0.3271 - accuracy: 0.8524 - val_loss: 0.3227 - val_accuracy: 0.8605\n",
      "Epoch 9/10\n",
      "55/55 [==============================] - 638s 12s/step - loss: 0.3080 - accuracy: 0.8693 - val_loss: 0.4130 - val_accuracy: 0.8145\n",
      "Epoch 10/10\n",
      "55/55 [==============================] - 617s 11s/step - loss: 0.2866 - accuracy: 0.8752 - val_loss: 0.2871 - val_accuracy: 0.8735\n"
     ]
    }
   ],
   "source": [
    "# Train the model\n",
    "history = model.fit(train_gen,\n",
    "                    epochs=10,\n",
    "                    validation_data=valid_gen)"
   ]
  },
  {
   "cell_type": "code",
   "execution_count": 13,
   "id": "0e781bf5",
   "metadata": {},
   "outputs": [
    {
     "name": "stdout",
     "output_type": "stream",
     "text": [
      "8/8 [==============================] - 67s 8s/step - loss: 0.2742 - accuracy: 0.8781\n",
      "Test Loss: 0.2742355465888977\n",
      "Test Accuracy: 0.8781218528747559\n"
     ]
    }
   ],
   "source": [
    "# Evaluate the model\n",
    "test_loss, test_acc = model.evaluate(test_gen)\n",
    "print(\"Test Loss:\", test_loss)\n",
    "print(\"Test Accuracy:\", test_acc)"
   ]
  },
  {
   "cell_type": "code",
   "execution_count": 14,
   "id": "f1f07c2c",
   "metadata": {},
   "outputs": [
    {
     "name": "stdout",
     "output_type": "stream",
     "text": [
      "8/8 [==============================] - 71s 8s/step\n"
     ]
    }
   ],
   "source": [
    "# Confusion matrix\n",
    "y_pred = model.predict(test_gen)\n",
    "y_pred_classes = np.argmax(y_pred, axis=1)\n",
    "true_classes = test_gen.classes\n",
    "class_labels = list(test_gen.class_indices.keys())\n",
    "cm = confusion_matrix(true_classes, y_pred_classes)"
   ]
  },
  {
   "cell_type": "code",
   "execution_count": 15,
   "id": "bdb2094f",
   "metadata": {},
   "outputs": [
    {
     "data": {
      "image/png": "[encoded data removed]",
      "text/plain": [
       "<Figure size 800x800 with 2 Axes>"
      ]
     },
     "metadata": {},
     "output_type": "display_data"
    }
   ],
   "source": [
    "# Plot confusion matrix\n",
    "plt.figure(figsize=(8, 8))\n",
    "sns.heatmap(cm, annot=True, fmt='d', cmap='Blues', xticklabels=class_labels, yticklabels=class_labels)\n",
    "plt.xlabel('Predicted')\n",
    "plt.ylabel('Actual')\n",
    "plt.title('Confusion Matrix')\n",
    "plt.show()"
   ]
  },
  {
   "cell_type": "code",
   "execution_count": 16,
   "id": "a64802e9",
   "metadata": {},
   "outputs": [
    {
     "name": "stdout",
     "output_type": "stream",
     "text": [
      "              precision    recall  f1-score   support\n",
      "\n",
      " oral_normal       0.85      0.94      0.89       507\n",
      "    oral_scc       0.93      0.83      0.88       494\n",
      "\n",
      "    accuracy                           0.89      1001\n",
      "   macro avg       0.89      0.89      0.89      1001\n",
      "weighted avg       0.89      0.89      0.89      1001\n",
      "\n"
     ]
    }
   ],
   "source": [
    "# Classification report\n",
    "print(classification_report(true_classes, y_pred_classes, target_names=class_labels))\n"
   ]
  },
  {
   "cell_type": "code",
   "execution_count": 17,
   "id": "d8ccdba1",
   "metadata": {},
   "outputs": [],
   "source": [
    "model.save('C:/Users/nani1/OneDrive/Desktop/Densenet169/10 epochs/Densenet169_10.h5')\n",
    "model1 = tf.keras.models.load_model('C:/Users/nani1/OneDrive/Desktop/Densenet169/10 epochs/Densenet169_10.h5')"
   ]
  },
  {
   "cell_type": "code",
   "execution_count": null,
   "id": "c9d14c3c",
   "metadata": {},
   "outputs": [],
   "source": []
  }
 ],
 "metadata": {
  "kernelspec": {
   "display_name": "Python 3 (ipykernel)",
   "language": "python",
   "name": "python3"
  },
  "language_info": {
   "codemirror_mode": {
    "name": "ipython",
    "version": 3
   },
   "file_extension": ".py",
   "mimetype": "text/x-python",
   "name": "python",
   "nbconvert_exporter": "python",
   "pygments_lexer": "ipython3",
   "version": "3.9.13"
  }
 },
 "nbformat": 4,
 "nbformat_minor": 5
}
