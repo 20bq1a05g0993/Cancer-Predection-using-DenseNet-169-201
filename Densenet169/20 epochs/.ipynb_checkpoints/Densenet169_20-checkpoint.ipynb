{
 "cells": [
  {
   "cell_type": "code",
   "execution_count": 2,
   "id": "43cba10c",
   "metadata": {},
   "outputs": [],
   "source": [
    "# Importing necessary libraries\n",
    "import os\n",
    "import numpy as np\n",
    "import pandas as pd\n",
    "import matplotlib.pyplot as plt\n",
    "import seaborn as sns\n",
    "from sklearn.model_selection import train_test_split\n",
    "from sklearn.metrics import confusion_matrix, classification_report\n",
    "import tensorflow as tf\n",
    "from tensorflow.keras.models import Sequential\n",
    "from tensorflow.keras.layers import Dense, GlobalAveragePooling2D, Dropout,BatchNormalization\n",
    "from tensorflow.keras.applications import DenseNet169\n",
    "from tensorflow.keras.preprocessing.image import ImageDataGenerator\n",
    "\n",
    "# Ignore Warnings\n",
    "import warnings\n",
    "warnings.filterwarnings(\"ignore\")"
   ]
  },
  {
   "cell_type": "code",
   "execution_count": 3,
   "id": "8c754953",
   "metadata": {},
   "outputs": [],
   "source": [
    "# Load and preprocess data\n",
    "data_dir = \"C:/Users/nani1/OneDrive/Desktop/oral cancer dataset/Oral Cancer\"\n",
    "labels = os.listdir(data_dir)\n",
    "filepaths = []\n",
    "for label in labels:\n",
    "    folder_path = os.path.join(data_dir, label)\n",
    "    filepaths.extend([os.path.join(folder_path, file) for file in os.listdir(folder_path)])"
   ]
  },
  {
   "cell_type": "code",
   "execution_count": 4,
   "id": "4dc2bf78",
   "metadata": {},
   "outputs": [],
   "source": [
    "# Create DataFrame\n",
    "df = pd.DataFrame({\"filepaths\": filepaths, \"labels\": [os.path.basename(os.path.dirname(path)) for path in filepaths]})"
   ]
  },
  {
   "cell_type": "code",
   "execution_count": 5,
   "id": "fc2ba01c",
   "metadata": {},
   "outputs": [],
   "source": [
    "# Train-test split\n",
    "train_df, test_df = train_test_split(df, train_size=0.7, shuffle=True, random_state=123)\n",
    "valid_df, test_df = train_test_split(test_df, test_size=1/3, shuffle=True, random_state=123)\n"
   ]
  },
  {
   "cell_type": "code",
   "execution_count": 6,
   "id": "fc4f9d47",
   "metadata": {},
   "outputs": [],
   "source": [
    "# Image parameters\n",
    "batch_size = 128\n",
    "img_size = (224, 224)\n"
   ]
  },
  {
   "cell_type": "code",
   "execution_count": 7,
   "id": "9ceae3a0",
   "metadata": {},
   "outputs": [
    {
     "name": "stdout",
     "output_type": "stream",
     "text": [
      "Found 7001 validated image filenames belonging to 2 classes.\n",
      "Found 2000 validated image filenames belonging to 2 classes.\n",
      "Found 1001 validated image filenames belonging to 2 classes.\n"
     ]
    }
   ],
   "source": [
    "# Data Generators\n",
    "datagen = ImageDataGenerator(rescale=1./255,\n",
    "                             rotation_range=20,\n",
    "                             width_shift_range=0.2,\n",
    "                             height_shift_range=0.2,\n",
    "                             shear_range=0.2,\n",
    "                             zoom_range=0.2,\n",
    "                             horizontal_flip=True,\n",
    "                             fill_mode='nearest')\n",
    "train_gen = datagen.flow_from_dataframe(\n",
    "    train_df,\n",
    "    x_col='filepaths',\n",
    "    y_col='labels',\n",
    "    target_size=img_size,\n",
    "    batch_size=batch_size,\n",
    "    class_mode='categorical',\n",
    "    shuffle=True\n",
    ")\n",
    "valid_gen = datagen.flow_from_dataframe(\n",
    "    valid_df,\n",
    "    x_col='filepaths',\n",
    "    y_col='labels',\n",
    "    target_size=img_size,\n",
    "    batch_size=batch_size,\n",
    "    class_mode='categorical',\n",
    "    shuffle=False\n",
    ")\n",
    "test_gen = datagen.flow_from_dataframe(\n",
    "    test_df,\n",
    "    x_col='filepaths',\n",
    "    y_col='labels',\n",
    "    target_size=img_size,\n",
    "    batch_size=batch_size,\n",
    "    class_mode='categorical',\n",
    "    shuffle=False\n",
    ")\n"
   ]
  },
  {
   "cell_type": "code",
   "execution_count": 8,
   "id": "ca9c3d84",
   "metadata": {},
   "outputs": [],
   "source": [
    "# Base model\n",
    "base_model = DenseNet169(weights='imagenet', include_top=False, input_shape=(img_size[0], img_size[1], 3))\n",
    "for layer in base_model.layers:\n",
    "    layer.trainable = False"
   ]
  },
  {
   "cell_type": "code",
   "execution_count": 9,
   "id": "83bc40f1",
   "metadata": {},
   "outputs": [],
   "source": [
    "# Custom head\n",
    "model = Sequential([\n",
    "    base_model,\n",
    "    GlobalAveragePooling2D(),\n",
    "    Dense(128, activation='relu'),\n",
    "    BatchNormalization(),\n",
    "    Dropout(0.36),\n",
    "    Dense(128, activation='relu'),\n",
    "    BatchNormalization(),\n",
    "    Dropout(0.36),\n",
    "    Dense(len(labels), activation='softmax')\n",
    "])"
   ]
  },
  {
   "cell_type": "code",
   "execution_count": 10,
   "id": "83f0c856",
   "metadata": {},
   "outputs": [],
   "source": [
    "# Compile the model\n",
    "model.compile(optimizer='adam',\n",
    "              loss='categorical_crossentropy',\n",
    "              metrics=['accuracy'])\n"
   ]
  },
  {
   "cell_type": "code",
   "execution_count": 11,
   "id": "f22a876f",
   "metadata": {},
   "outputs": [
    {
     "name": "stdout",
     "output_type": "stream",
     "text": [
      "Model: \"sequential\"\n",
      "_________________________________________________________________\n",
      " Layer (type)                Output Shape              Param #   \n",
      "=================================================================\n",
      " densenet169 (Functional)    (None, 7, 7, 1664)        12642880  \n",
      "                                                                 \n",
      " global_average_pooling2d (  (None, 1664)              0         \n",
      " GlobalAveragePooling2D)                                         \n",
      "                                                                 \n",
      " dense (Dense)               (None, 128)               213120    \n",
      "                                                                 \n",
      " batch_normalization (Batch  (None, 128)               512       \n",
      " Normalization)                                                  \n",
      "                                                                 \n",
      " dropout (Dropout)           (None, 128)               0         \n",
      "                                                                 \n",
      " dense_1 (Dense)             (None, 128)               16512     \n",
      "                                                                 \n",
      " batch_normalization_1 (Bat  (None, 128)               512       \n",
      " chNormalization)                                                \n",
      "                                                                 \n",
      " dropout_1 (Dropout)         (None, 128)               0         \n",
      "                                                                 \n",
      " dense_2 (Dense)             (None, 2)                 258       \n",
      "                                                                 \n",
      "=================================================================\n",
      "Total params: 12873794 (49.11 MB)\n",
      "Trainable params: 230402 (900.01 KB)\n",
      "Non-trainable params: 12643392 (48.23 MB)\n",
      "_________________________________________________________________\n"
     ]
    }
   ],
   "source": [
    "# Model Summary\n",
    "model.summary()"
   ]
  },
  {
   "cell_type": "code",
   "execution_count": 12,
   "id": "85918763",
   "metadata": {},
   "outputs": [
    {
     "name": "stdout",
     "output_type": "stream",
     "text": [
      "Epoch 1/20\n",
      "55/55 [==============================] - 5027s 12s/step - loss: 0.7309 - accuracy: 0.6840 - val_loss: 0.5380 - val_accuracy: 0.7005\n",
      "Epoch 2/20\n",
      "55/55 [==============================] - 600s 11s/step - loss: 0.5299 - accuracy: 0.7645 - val_loss: 0.4380 - val_accuracy: 0.7995\n",
      "Epoch 3/20\n",
      "55/55 [==============================] - 598s 11s/step - loss: 0.4574 - accuracy: 0.7930 - val_loss: 0.3742 - val_accuracy: 0.8350\n",
      "Epoch 4/20\n",
      "55/55 [==============================] - 599s 11s/step - loss: 0.4155 - accuracy: 0.8073 - val_loss: 0.3468 - val_accuracy: 0.8405\n",
      "Epoch 5/20\n",
      "55/55 [==============================] - 599s 11s/step - loss: 0.3847 - accuracy: 0.8300 - val_loss: 0.3443 - val_accuracy: 0.8425\n",
      "Epoch 6/20\n",
      "55/55 [==============================] - 601s 11s/step - loss: 0.3585 - accuracy: 0.8440 - val_loss: 0.3268 - val_accuracy: 0.8535\n",
      "Epoch 7/20\n",
      "55/55 [==============================] - 599s 11s/step - loss: 0.3401 - accuracy: 0.8520 - val_loss: 0.3293 - val_accuracy: 0.8595\n",
      "Epoch 8/20\n",
      "55/55 [==============================] - 598s 11s/step - loss: 0.3255 - accuracy: 0.8600 - val_loss: 0.3245 - val_accuracy: 0.8595\n",
      "Epoch 9/20\n",
      "55/55 [==============================] - 600s 11s/step - loss: 0.3209 - accuracy: 0.8630 - val_loss: 0.4407 - val_accuracy: 0.8020\n",
      "Epoch 10/20\n",
      "55/55 [==============================] - 609s 11s/step - loss: 0.3083 - accuracy: 0.8710 - val_loss: 0.2998 - val_accuracy: 0.8625\n",
      "Epoch 11/20\n",
      "55/55 [==============================] - 608s 11s/step - loss: 0.2892 - accuracy: 0.8724 - val_loss: 0.3096 - val_accuracy: 0.8620\n",
      "Epoch 12/20\n",
      "55/55 [==============================] - 619s 11s/step - loss: 0.2941 - accuracy: 0.8749 - val_loss: 0.2987 - val_accuracy: 0.8715\n",
      "Epoch 13/20\n",
      "55/55 [==============================] - 621s 11s/step - loss: 0.2905 - accuracy: 0.8766 - val_loss: 0.3623 - val_accuracy: 0.8290\n",
      "Epoch 14/20\n",
      "55/55 [==============================] - 611s 11s/step - loss: 0.2816 - accuracy: 0.8806 - val_loss: 0.2734 - val_accuracy: 0.8790\n",
      "Epoch 15/20\n",
      "55/55 [==============================] - 611s 11s/step - loss: 0.2752 - accuracy: 0.8810 - val_loss: 0.2607 - val_accuracy: 0.8915\n",
      "Epoch 16/20\n",
      "55/55 [==============================] - 611s 11s/step - loss: 0.2673 - accuracy: 0.8869 - val_loss: 0.2728 - val_accuracy: 0.8825\n",
      "Epoch 17/20\n",
      "55/55 [==============================] - 609s 11s/step - loss: 0.2651 - accuracy: 0.8866 - val_loss: 0.2576 - val_accuracy: 0.8895\n",
      "Epoch 18/20\n",
      "55/55 [==============================] - 612s 11s/step - loss: 0.2499 - accuracy: 0.8947 - val_loss: 0.2433 - val_accuracy: 0.8915\n",
      "Epoch 19/20\n",
      "55/55 [==============================] - 612s 11s/step - loss: 0.2438 - accuracy: 0.8962 - val_loss: 0.2254 - val_accuracy: 0.9055\n",
      "Epoch 20/20\n",
      "55/55 [==============================] - 620s 11s/step - loss: 0.2411 - accuracy: 0.8992 - val_loss: 0.2619 - val_accuracy: 0.8820\n"
     ]
    }
   ],
   "source": [
    "# Train the model\n",
    "history = model.fit(train_gen,\n",
    "                    epochs=20,\n",
    "                    validation_data=valid_gen)"
   ]
  },
  {
   "cell_type": "code",
   "execution_count": 13,
   "id": "d3402dca",
   "metadata": {},
   "outputs": [
    {
     "name": "stdout",
     "output_type": "stream",
     "text": [
      "8/8 [==============================] - 76s 9s/step - loss: 0.2209 - accuracy: 0.9091\n",
      "Test Loss: 0.22089485824108124\n",
      "Test Accuracy: 0.9090909361839294\n"
     ]
    }
   ],
   "source": [
    "# Evaluate the model\n",
    "test_loss, test_acc = model.evaluate(test_gen)\n",
    "print(\"Test Loss:\", test_loss)\n",
    "print(\"Test Accuracy:\", test_acc)"
   ]
  },
  {
   "cell_type": "code",
   "execution_count": 14,
   "id": "9717bc0d",
   "metadata": {},
   "outputs": [
    {
     "name": "stdout",
     "output_type": "stream",
     "text": [
      "8/8 [==============================] - 77s 9s/step\n"
     ]
    }
   ],
   "source": [
    "# Confusion matrix\n",
    "y_pred = model.predict(test_gen)\n",
    "y_pred_classes = np.argmax(y_pred, axis=1)\n",
    "true_classes = test_gen.classes\n",
    "class_labels = list(test_gen.class_indices.keys())\n",
    "cm = confusion_matrix(true_classes, y_pred_classes)"
   ]
  },
  {
   "cell_type": "code",
   "execution_count": 15,
   "id": "1994e9b7",
   "metadata": {},
   "outputs": [
    {
     "data": {
      "image/png": "[encoded data removed]",
      "text/plain": [
       "<Figure size 800x800 with 2 Axes>"
      ]
     },
     "metadata": {},
     "output_type": "display_data"
    }
   ],
   "source": [
    "# Plot confusion matrix\n",
    "plt.figure(figsize=(8, 8))\n",
    "sns.heatmap(cm, annot=True, fmt='d', cmap='Blues', xticklabels=class_labels, yticklabels=class_labels)\n",
    "plt.xlabel('Predicted')\n",
    "plt.ylabel('Actual')\n",
    "plt.title('Confusion Matrix')\n",
    "plt.show()"
   ]
  },
  {
   "cell_type": "code",
   "execution_count": 16,
   "id": "8f132d12",
   "metadata": {},
   "outputs": [
    {
     "name": "stdout",
     "output_type": "stream",
     "text": [
      "              precision    recall  f1-score   support\n",
      "\n",
      " oral_normal       0.91      0.91      0.91       507\n",
      "    oral_scc       0.91      0.90      0.91       494\n",
      "\n",
      "    accuracy                           0.91      1001\n",
      "   macro avg       0.91      0.91      0.91      1001\n",
      "weighted avg       0.91      0.91      0.91      1001\n",
      "\n"
     ]
    }
   ],
   "source": [
    "# Classification report\n",
    "print(classification_report(true_classes, y_pred_classes, target_names=class_labels))\n"
   ]
  },
  {
   "cell_type": "code",
   "execution_count": 17,
   "id": "14062c04",
   "metadata": {},
   "outputs": [],
   "source": [
    "model.save('C:/Users/nani1/OneDrive/Desktop/Densenet169/20 epochs/Densenet169_20.h5')\n",
    "model1 = tf.keras.models.load_model('C:/Users/nani1/OneDrive/Desktop/Densenet169/20 epochs/Densenet169_20.h5')"
   ]
  },
  {
   "cell_type": "code",
   "execution_count": null,
   "id": "0e96bee8",
   "metadata": {},
   "outputs": [],
   "source": []
  }
 ],
 "metadata": {
  "kernelspec": {
   "display_name": "Python 3 (ipykernel)",
   "language": "python",
   "name": "python3"
  },
  "language_info": {
   "codemirror_mode": {
    "name": "ipython",
    "version": 3
   },
   "file_extension": ".py",
   "mimetype": "text/x-python",
   "name": "python",
   "nbconvert_exporter": "python",
   "pygments_lexer": "ipython3",
   "version": "3.9.13"
  }
 },
 "nbformat": 4,
 "nbformat_minor": 5
}
